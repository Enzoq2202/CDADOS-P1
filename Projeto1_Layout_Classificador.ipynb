{
 "cells": [
  {
   "cell_type": "markdown",
   "metadata": {},
   "source": [
    "# Projeto 1 - Ciência dos Dados"
   ]
  },
  {
   "cell_type": "markdown",
   "metadata": {},
   "source": [
    "Nome: Enzo Qental\n",
    "\n",
    "Nome: João Pedro Artese de Natal\n",
    "\n",
    "Nome: João Pedro Ramos Fiorin"
   ]
  },
  {
   "cell_type": "markdown",
   "metadata": {},
   "source": [
    "Atenção: Serão permitidos grupos de três pessoas, mas com uma rubrica mais exigente. Grupos deste tamanho precisarão fazer um questionário de avaliação de trabalho em equipe"
   ]
  },
  {
   "cell_type": "markdown",
   "metadata": {},
   "source": [
    "___\n",
    "Carregando algumas bibliotecas:"
   ]
  },
  {
   "cell_type": "code",
   "execution_count": 507,
   "metadata": {},
   "outputs": [
    {
     "name": "stderr",
     "output_type": "stream",
     "text": [
      "[nltk_data] Downloading package rslp to\n",
      "[nltk_data]     C:\\Users\\jprfi\\AppData\\Roaming\\nltk_data...\n",
      "[nltk_data]   Unzipping stemmers\\rslp.zip.\n"
     ]
    },
    {
     "data": {
      "text/plain": [
       "True"
      ]
     },
     "execution_count": 507,
     "metadata": {},
     "output_type": "execute_result"
    }
   ],
   "source": [
    "# Importando as funções que serão utilizadas no nosso classificador.\n",
    "%matplotlib inline\n",
    "import pandas as pd\n",
    "import matplotlib.pyplot as plt\n",
    "import numpy as np\n",
    "import os\n",
    "import re \n",
    "import nltk \n",
    "import numpy\n",
    "nltk.download('rslp')"
   ]
  },
  {
   "cell_type": "code",
   "execution_count": 508,
   "metadata": {
    "scrolled": false
   },
   "outputs": [
    {
     "name": "stdout",
     "output_type": "stream",
     "text": [
      "Esperamos trabalhar no diretório\n",
      "C:\\Users\\jprfi\\OneDrive\\Área de Trabalho\\CDADOS\\Projeto 1\\CDADOS-P1\n"
     ]
    }
   ],
   "source": [
    "print('Esperamos trabalhar no diretório')\n",
    "print(os.getcwd())"
   ]
  },
  {
   "cell_type": "markdown",
   "metadata": {},
   "source": [
    "Carregando a base de dados com os tweets classificados como relevantes e não relevantes:"
   ]
  },
  {
   "cell_type": "code",
   "execution_count": 509,
   "metadata": {},
   "outputs": [],
   "source": [
    "filename = 'Iphone1250.xlsx'"
   ]
  },
  {
   "cell_type": "code",
   "execution_count": 510,
   "metadata": {},
   "outputs": [
    {
     "data": {
      "text/html": [
       "<div>\n",
       "<style scoped>\n",
       "    .dataframe tbody tr th:only-of-type {\n",
       "        vertical-align: middle;\n",
       "    }\n",
       "\n",
       "    .dataframe tbody tr th {\n",
       "        vertical-align: top;\n",
       "    }\n",
       "\n",
       "    .dataframe thead th {\n",
       "        text-align: right;\n",
       "    }\n",
       "</style>\n",
       "<table border=\"1\" class=\"dataframe\">\n",
       "  <thead>\n",
       "    <tr style=\"text-align: right;\">\n",
       "      <th></th>\n",
       "      <th>Treinamento</th>\n",
       "      <th>Relevância</th>\n",
       "    </tr>\n",
       "  </thead>\n",
       "  <tbody>\n",
       "    <tr>\n",
       "      <th>0</th>\n",
       "      <td>eu achava iphone caro,até pagar o preço de nun...</td>\n",
       "      <td>1</td>\n",
       "    </tr>\n",
       "    <tr>\n",
       "      <th>1</th>\n",
       "      <td>novamente sem carregador, essa vida usuária de...</td>\n",
       "      <td>2</td>\n",
       "    </tr>\n",
       "    <tr>\n",
       "      <th>2</th>\n",
       "      <td>se fôssemos trocar de celular vocês ficariam c...</td>\n",
       "      <td>2</td>\n",
       "    </tr>\n",
       "    <tr>\n",
       "      <th>3</th>\n",
       "      <td>@zaynikr mas gente, ela tem uns 3 telefones co...</td>\n",
       "      <td>2</td>\n",
       "    </tr>\n",
       "    <tr>\n",
       "      <th>4</th>\n",
       "      <td>esse face id do iphone que se eu tiver com a b...</td>\n",
       "      <td>3</td>\n",
       "    </tr>\n",
       "  </tbody>\n",
       "</table>\n",
       "</div>"
      ],
      "text/plain": [
       "                                         Treinamento  Relevância\n",
       "0  eu achava iphone caro,até pagar o preço de nun...           1\n",
       "1  novamente sem carregador, essa vida usuária de...           2\n",
       "2  se fôssemos trocar de celular vocês ficariam c...           2\n",
       "3  @zaynikr mas gente, ela tem uns 3 telefones co...           2\n",
       "4  esse face id do iphone que se eu tiver com a b...           3"
      ]
     },
     "execution_count": 510,
     "metadata": {},
     "output_type": "execute_result"
    }
   ],
   "source": [
    "# Leitura do excel da planilha treinamento. \n",
    "train = pd.read_excel(filename)\n",
    "train.head(5)"
   ]
  },
  {
   "cell_type": "code",
   "execution_count": 511,
   "metadata": {},
   "outputs": [
    {
     "data": {
      "text/html": [
       "<div>\n",
       "<style scoped>\n",
       "    .dataframe tbody tr th:only-of-type {\n",
       "        vertical-align: middle;\n",
       "    }\n",
       "\n",
       "    .dataframe tbody tr th {\n",
       "        vertical-align: top;\n",
       "    }\n",
       "\n",
       "    .dataframe thead th {\n",
       "        text-align: right;\n",
       "    }\n",
       "</style>\n",
       "<table border=\"1\" class=\"dataframe\">\n",
       "  <thead>\n",
       "    <tr style=\"text-align: right;\">\n",
       "      <th></th>\n",
       "      <th>Teste</th>\n",
       "      <th>Relevância</th>\n",
       "    </tr>\n",
       "  </thead>\n",
       "  <tbody>\n",
       "    <tr>\n",
       "      <th>0</th>\n",
       "      <td>voltei c iphone, que sdd que eu estava meu deus</td>\n",
       "      <td>1</td>\n",
       "    </tr>\n",
       "    <tr>\n",
       "      <th>1</th>\n",
       "      <td>o novo ios do iphone ta muito bom</td>\n",
       "      <td>3</td>\n",
       "    </tr>\n",
       "    <tr>\n",
       "      <th>2</th>\n",
       "      <td>so pq tem um iphone, é triste viu kkkkkjjjjj h...</td>\n",
       "      <td>0</td>\n",
       "    </tr>\n",
       "    <tr>\n",
       "      <th>3</th>\n",
       "      <td>carregador de iphone seria perfeito se fosse m...</td>\n",
       "      <td>3</td>\n",
       "    </tr>\n",
       "    <tr>\n",
       "      <th>4</th>\n",
       "      <td>ela vive dando reply nos story usando iphone k...</td>\n",
       "      <td>2</td>\n",
       "    </tr>\n",
       "  </tbody>\n",
       "</table>\n",
       "</div>"
      ],
      "text/plain": [
       "                                               Teste  Relevância\n",
       "0    voltei c iphone, que sdd que eu estava meu deus           1\n",
       "1                  o novo ios do iphone ta muito bom           3\n",
       "2  so pq tem um iphone, é triste viu kkkkkjjjjj h...           0\n",
       "3  carregador de iphone seria perfeito se fosse m...           3\n",
       "4  ela vive dando reply nos story usando iphone k...           2"
      ]
     },
     "execution_count": 511,
     "metadata": {},
     "output_type": "execute_result"
    }
   ],
   "source": [
    "# Leitura do excel da planilha teste.\n",
    "test = pd.read_excel(filename, sheet_name = 'Teste')\n",
    "test.head(5)"
   ]
  },
  {
   "cell_type": "markdown",
   "metadata": {},
   "source": [
    "___\n",
    "## Classificador automático de sentimento\n"
   ]
  },
  {
   "cell_type": "markdown",
   "metadata": {},
   "source": [
    "Faça aqui uma descrição do seu produto e o que considerou como relevante ou não relevante na classificação dos tweets.\n",
    "\n",
    "Celular da Apple. Consideramos como uma postagem relevante quando o conteúdo se trata de alguma crítica ou análise sobre o produto, caso o contrário, consideramos como não relevante."
   ]
  },
  {
   "cell_type": "markdown",
   "metadata": {},
   "source": [
    "___\n",
    "### Montando as funções de limpeza dos twits.\n",
    "\n",
    "Criando as funções que irão limpar os nossos dados das duas planilhas(Treinamento e Teste)."
   ]
  },
  {
   "cell_type": "code",
   "execution_count": 512,
   "metadata": {},
   "outputs": [],
   "source": [
    "# Lista de todas stopwords, que serão retiradas no cleanup.\n",
    "stopwords=['de', 'a', 'o', 'que', 'e', 'do', 'da', 'em', 'um', 'para', 'é', 'com', 'não', 'uma', 'os', 'no', 'se', 'na', 'por', 'mais', 'as', 'dos', 'como', 'mas', 'foi', 'ao', 'ele', 'das', 'tem', 'à', 'seu', 'sua', 'ou', 'ser', 'quando', 'muito', 'há', 'nos', 'já', 'está', 'eu', 'também', 'só', 'pelo', 'pela', 'até', 'isso', 'ela', 'entre', 'era', 'depois', 'sem', 'mesmo', 'aos', 'ter', 'seus', 'quem', 'nas', 'me', 'esse', 'eles', 'estão', 'você', 'tinha', 'foram', 'essa', 'num', 'nem', 'suas', 'meu', 'às', 'minha', 'têm', 'numa', 'pelos', 'elas', 'havia', 'seja', 'qual', 'será', 'nós', 'tenho', 'lhe', 'deles', 'essas', 'esses', 'pelas', 'este', 'fosse', 'dele', 'tu', 'te', 'vocês', 'vós', 'lhes', 'meus', 'minhas', 'teu', 'tua', 'teus', 'tuas', 'nosso', 'nossa', 'nossos', 'nossas', 'dela', 'delas', 'esta', 'estes', 'estas', 'aquele', 'aquela', 'aqueles', 'aquelas', 'isto', 'aquilo', 'estou', 'está', 'estamos', 'estão', 'estive', 'esteve', 'estivemos', 'estiveram', 'estava', 'estávamos', 'estavam', 'estivera', 'estivéramos', 'esteja', 'estejamos', 'estejam', 'estivesse', 'estivéssemos', 'estivessem', 'estiver', 'estivermos', 'estiverem', 'hei', 'há', 'havemos', 'hão', 'houve', 'houvemos', 'houveram', 'houvera', 'houvéramos', 'haja', 'hajamos', 'hajam', 'houvesse', 'houvéssemos', 'houvessem', 'houver', 'houvermos', 'houverem', 'houverei', 'houverá', 'houveremos', 'houverão', 'houveria', 'houveríamos', 'houveriam', 'sou', 'somos', 'são', 'era', 'éramos', 'eram', 'fui', 'foi', 'fomos', 'foram', 'fora', 'fôramos', 'esteja', 'estejamos', 'sejam', 'fosse', 'fôssemos', 'for', 'formos', 'forem', 'serei', 'será', 'seremos', 'serão', 'seria', 'seríamos', 'seriam', 'tenho', 'tem', 'temos', 'têm', 'tinha', 'tínhamos', 'tinham', 'tive', 'teve', 'tivemos', 'tiveram', 'tivera', 'tivéramos', 'tenha', 'tenhamos', 'tenham', 'tivesse', 'tivéssemos', 'tivessem', 'tiver', 'tivermos', 'tiverem', 'terei', 'terá', 'teremos', 'terão', 'teria', 'teríamos', 'teriam']"
   ]
  },
  {
   "cell_type": "code",
   "execution_count": 513,
   "metadata": {},
   "outputs": [],
   "source": [
    "# Criação da função cleanup.\n",
    "def cleanup(text):\n",
    "    punctuation = '[!-.:?;()\\'\",_%$\\\\|/,<>[\\]]'\n",
    "    pattern = re.compile(punctuation)\n",
    "    text_subbed = re.sub(pattern, ' ', text).lower()\n",
    "    x=[p for p in text_subbed.split() if '@' != p [0] and p not in stopwords]\n",
    "    stemmer = nltk.stem.RSLPStemmer()\n",
    "    x = list(map(stemmer.stem, x))\n",
    "    return x"
   ]
  },
  {
   "cell_type": "code",
   "execution_count": 514,
   "metadata": {
    "scrolled": false
   },
   "outputs": [
    {
     "data": {
      "text/html": [
       "<div>\n",
       "<style scoped>\n",
       "    .dataframe tbody tr th:only-of-type {\n",
       "        vertical-align: middle;\n",
       "    }\n",
       "\n",
       "    .dataframe tbody tr th {\n",
       "        vertical-align: top;\n",
       "    }\n",
       "\n",
       "    .dataframe thead th {\n",
       "        text-align: right;\n",
       "    }\n",
       "</style>\n",
       "<table border=\"1\" class=\"dataframe\">\n",
       "  <thead>\n",
       "    <tr style=\"text-align: right;\">\n",
       "      <th></th>\n",
       "      <th>Treinamento</th>\n",
       "      <th>Relevância</th>\n",
       "    </tr>\n",
       "  </thead>\n",
       "  <tbody>\n",
       "    <tr>\n",
       "      <th>0</th>\n",
       "      <td>[ach, iphon, car, pag, preç, nunc, am, verdad]</td>\n",
       "      <td>1</td>\n",
       "    </tr>\n",
       "    <tr>\n",
       "      <th>1</th>\n",
       "      <td>[nov, carreg, vid, usuár, iphon, pra, mim, 😭😭😭]</td>\n",
       "      <td>2</td>\n",
       "    </tr>\n",
       "    <tr>\n",
       "      <th>2</th>\n",
       "      <td>[troc, celul, fic, iphon, xr]</td>\n",
       "      <td>2</td>\n",
       "    </tr>\n",
       "    <tr>\n",
       "      <th>3</th>\n",
       "      <td>[gent, um, 3, telefon, diss, cert, iphon, kkkk...</td>\n",
       "      <td>2</td>\n",
       "    </tr>\n",
       "    <tr>\n",
       "      <th>4</th>\n",
       "      <td>[fac, id, iphon, boc, tiquin, abert, reconhec,...</td>\n",
       "      <td>3</td>\n",
       "    </tr>\n",
       "    <tr>\n",
       "      <th>...</th>\n",
       "      <td>...</td>\n",
       "      <td>...</td>\n",
       "    </tr>\n",
       "    <tr>\n",
       "      <th>995</th>\n",
       "      <td>[iphon, xr, 89, bat, amig, vend, inform, cham,...</td>\n",
       "      <td>0</td>\n",
       "    </tr>\n",
       "    <tr>\n",
       "      <th>996</th>\n",
       "      <td>[namor, deu, iphon, part, trá, vidr, agor, cui...</td>\n",
       "      <td>1</td>\n",
       "    </tr>\n",
       "    <tr>\n",
       "      <th>997</th>\n",
       "      <td>[saudad, to, iphon, surre, 😫]</td>\n",
       "      <td>1</td>\n",
       "    </tr>\n",
       "    <tr>\n",
       "      <th>998</th>\n",
       "      <td>[quer, cri, vsc, log, iphon, tens, to, armazen]</td>\n",
       "      <td>2</td>\n",
       "    </tr>\n",
       "    <tr>\n",
       "      <th>999</th>\n",
       "      <td>[met, compr, iphon, pra, nunc, pass, raiv]</td>\n",
       "      <td>2</td>\n",
       "    </tr>\n",
       "  </tbody>\n",
       "</table>\n",
       "<p>1000 rows × 2 columns</p>\n",
       "</div>"
      ],
      "text/plain": [
       "                                           Treinamento  Relevância\n",
       "0       [ach, iphon, car, pag, preç, nunc, am, verdad]           1\n",
       "1      [nov, carreg, vid, usuár, iphon, pra, mim, 😭😭😭]           2\n",
       "2                        [troc, celul, fic, iphon, xr]           2\n",
       "3    [gent, um, 3, telefon, diss, cert, iphon, kkkk...           2\n",
       "4    [fac, id, iphon, boc, tiquin, abert, reconhec,...           3\n",
       "..                                                 ...         ...\n",
       "995  [iphon, xr, 89, bat, amig, vend, inform, cham,...           0\n",
       "996  [namor, deu, iphon, part, trá, vidr, agor, cui...           1\n",
       "997                      [saudad, to, iphon, surre, 😫]           1\n",
       "998    [quer, cri, vsc, log, iphon, tens, to, armazen]           2\n",
       "999         [met, compr, iphon, pra, nunc, pass, raiv]           2\n",
       "\n",
       "[1000 rows x 2 columns]"
      ]
     },
     "execution_count": 514,
     "metadata": {},
     "output_type": "execute_result"
    }
   ],
   "source": [
    "# Aplicando a função cleanup na planilha de treinamento.\n",
    "train['Treinamento'] = train['Treinamento'].apply(cleanup)\n",
    "train"
   ]
  },
  {
   "cell_type": "code",
   "execution_count": 515,
   "metadata": {
    "scrolled": false
   },
   "outputs": [
    {
     "data": {
      "text/html": [
       "<div>\n",
       "<style scoped>\n",
       "    .dataframe tbody tr th:only-of-type {\n",
       "        vertical-align: middle;\n",
       "    }\n",
       "\n",
       "    .dataframe tbody tr th {\n",
       "        vertical-align: top;\n",
       "    }\n",
       "\n",
       "    .dataframe thead th {\n",
       "        text-align: right;\n",
       "    }\n",
       "</style>\n",
       "<table border=\"1\" class=\"dataframe\">\n",
       "  <thead>\n",
       "    <tr style=\"text-align: right;\">\n",
       "      <th></th>\n",
       "      <th>Teste</th>\n",
       "      <th>Relevância</th>\n",
       "    </tr>\n",
       "  </thead>\n",
       "  <tbody>\n",
       "    <tr>\n",
       "      <th>0</th>\n",
       "      <td>[volt, c, iphon, sdd, deu]</td>\n",
       "      <td>1</td>\n",
       "    </tr>\n",
       "    <tr>\n",
       "      <th>1</th>\n",
       "      <td>[nov, io, iphon, ta, bom]</td>\n",
       "      <td>3</td>\n",
       "    </tr>\n",
       "    <tr>\n",
       "      <th>2</th>\n",
       "      <td>[so, pq, iphon, trist, viu, kkkkkjjjjj, http, ...</td>\n",
       "      <td>0</td>\n",
       "    </tr>\n",
       "    <tr>\n",
       "      <th>3</th>\n",
       "      <td>[carreg, iphon, perfeit, barat]</td>\n",
       "      <td>3</td>\n",
       "    </tr>\n",
       "    <tr>\n",
       "      <th>4</th>\n",
       "      <td>[viv, dand, reply, story, us, iphon, kkkkkkkk,...</td>\n",
       "      <td>2</td>\n",
       "    </tr>\n",
       "    <tr>\n",
       "      <th>...</th>\n",
       "      <td>...</td>\n",
       "      <td>...</td>\n",
       "    </tr>\n",
       "    <tr>\n",
       "      <th>245</th>\n",
       "      <td>[instal, whatsapp, gb, watus, iphon, jailbreak...</td>\n",
       "      <td>0</td>\n",
       "    </tr>\n",
       "    <tr>\n",
       "      <th>246</th>\n",
       "      <td>[vid, mud, vinic, desativ, espelh, automá, iphon]</td>\n",
       "      <td>1</td>\n",
       "    </tr>\n",
       "    <tr>\n",
       "      <th>247</th>\n",
       "      <td>[bat, celul, tá, parec, iphon, tão, merd, q, tá]</td>\n",
       "      <td>3</td>\n",
       "    </tr>\n",
       "    <tr>\n",
       "      <th>248</th>\n",
       "      <td>[narcis, dá, iphon, 🥺]</td>\n",
       "      <td>0</td>\n",
       "    </tr>\n",
       "    <tr>\n",
       "      <th>249</th>\n",
       "      <td>[ach, q, cab, iphon, kkkkkk]</td>\n",
       "      <td>1</td>\n",
       "    </tr>\n",
       "  </tbody>\n",
       "</table>\n",
       "<p>250 rows × 2 columns</p>\n",
       "</div>"
      ],
      "text/plain": [
       "                                                 Teste  Relevância\n",
       "0                           [volt, c, iphon, sdd, deu]           1\n",
       "1                            [nov, io, iphon, ta, bom]           3\n",
       "2    [so, pq, iphon, trist, viu, kkkkkjjjjj, http, ...           0\n",
       "3                      [carreg, iphon, perfeit, barat]           3\n",
       "4    [viv, dand, reply, story, us, iphon, kkkkkkkk,...           2\n",
       "..                                                 ...         ...\n",
       "245  [instal, whatsapp, gb, watus, iphon, jailbreak...           0\n",
       "246  [vid, mud, vinic, desativ, espelh, automá, iphon]           1\n",
       "247   [bat, celul, tá, parec, iphon, tão, merd, q, tá]           3\n",
       "248                             [narcis, dá, iphon, 🥺]           0\n",
       "249                       [ach, q, cab, iphon, kkkkkk]           1\n",
       "\n",
       "[250 rows x 2 columns]"
      ]
     },
     "execution_count": 515,
     "metadata": {},
     "output_type": "execute_result"
    }
   ],
   "source": [
    "# Aplicando a função cleanup na planilha de teste.\n",
    "test['Teste'] = test['Teste'].apply(cleanup)\n",
    "test"
   ]
  },
  {
   "cell_type": "markdown",
   "metadata": {},
   "source": [
    "___\n",
    "### Montando um Classificador Naive-Bayes\n",
    "\n",
    "Considerando apenas as mensagens da planilha Treinamento, ensine  seu classificador."
   ]
  },
  {
   "cell_type": "code",
   "execution_count": 516,
   "metadata": {},
   "outputs": [],
   "source": [
    "# Transformnado train['Relevância'] em variável categórica.\n",
    "train['Relevância'] = train['Relevância'].astype('category')\n",
    "train['Relevância'].cat.categories = [0,1,2,3]"
   ]
  },
  {
   "cell_type": "code",
   "execution_count": 517,
   "metadata": {},
   "outputs": [],
   "source": [
    "# Separando os tweets por relevância.\n",
    "muito_relevante = train['Relevância'] == 3\n",
    "relevante = train['Relevância'] == 2\n",
    "irrelevante = train['Relevância'] == 1\n",
    "muito_irrelevante = train['Relevância'] == 0"
   ]
  },
  {
   "cell_type": "code",
   "execution_count": 518,
   "metadata": {},
   "outputs": [],
   "source": [
    "# Separando os tweets por relevância em variáveis.\n",
    "df_muito_relevante = train.loc[muito_relevante, :]\n",
    "df_relevante = train.loc[relevante, :]\n",
    "df_irrelevante = train.loc[irrelevante, :]\n",
    "df_muito_irrelevante = train.loc[muito_irrelevante, :]"
   ]
  },
  {
   "cell_type": "code",
   "execution_count": 519,
   "metadata": {},
   "outputs": [],
   "source": [
    "# Colocando todas as palavras, por categoria, em uma lista.\n",
    "total_palavras_mr = sum(df_muito_relevante['Treinamento'], [])\n",
    "total_palavras_r = sum(df_relevante['Treinamento'], [])\n",
    "total_palavras_i = sum(df_irrelevante['Treinamento'], [])\n",
    "total_palavras_mi = sum(df_muito_irrelevante['Treinamento'], [])"
   ]
  },
  {
   "cell_type": "code",
   "execution_count": 520,
   "metadata": {},
   "outputs": [],
   "source": [
    "# Transformando as palavras da lista em um Pandas Series. \n",
    "series_mr = pd.Series(total_palavras_mr)\n",
    "series_r = pd.Series(total_palavras_r)\n",
    "series_i = pd.Series(total_palavras_i)\n",
    "series_mi = pd.Series(total_palavras_mi)"
   ]
  },
  {
   "cell_type": "code",
   "execution_count": 521,
   "metadata": {},
   "outputs": [],
   "source": [
    "# Calculando o total de palavras, sem repetições, de todas as categorias.\n",
    "tot_palavras_sem_rep = len(series_mr.value_counts()) + len(series_r.value_counts()) + len(series_i.value_counts()) + len(series_mi.value_counts())"
   ]
  },
  {
   "cell_type": "code",
   "execution_count": 522,
   "metadata": {},
   "outputs": [],
   "source": [
    "# Total de palavras por categoria. \n",
    "total_mr = len(total_palavras_mr)\n",
    "total_r = len(total_palavras_r)\n",
    "total_i = len(total_palavras_i)\n",
    "total_mi = len(total_palavras_mi)"
   ]
  },
  {
   "cell_type": "code",
   "execution_count": 523,
   "metadata": {},
   "outputs": [],
   "source": [
    "# Probabilidade de cada categoria: \n",
    "prob_mr = len(df_muito_relevante)/len(train[\"Treinamento\"])\n",
    "prob_r = len(df_relevante)/len(train[\"Treinamento\"])\n",
    "prob_i = len(df_irrelevante)/len(train[\"Treinamento\"])\n",
    "prob_mi = len(df_muito_irrelevante)/len(train[\"Treinamento\"])"
   ]
  },
  {
   "cell_type": "code",
   "execution_count": 524,
   "metadata": {},
   "outputs": [],
   "source": [
    "# Criando o classificador.\n",
    "def classifica(frase):\n",
    "    # Suavização de la Place.\n",
    "    alfa = 1 \n",
    "    # Listas por categorias para armazenar a probabilidade de cada palavra da frase para serem multiplicadas posteriormente.\n",
    "    lista_mr = []\n",
    "    lista_r = []\n",
    "    lista_i = []\n",
    "    lista_mi = []\n",
    "    # Loop principal.\n",
    "    for palavra in frase:\n",
    "        # Quantidade de aparições da palavra em cada categoria.\n",
    "        qtd_mr = series_mr.to_list().count(palavra)\n",
    "        qtd_r = series_r.to_list().count(palavra)\n",
    "        qtd_i = series_i.to_list().count(palavra)\n",
    "        qtd_mi = series_mi.to_list().count(palavra)\n",
    "        # Calculos da probabilidade por categoria utilizando a suavização de La Place.\n",
    "        prob_palavra_mr = lista_mr.append((qtd_mr + alfa) / (total_mr + tot_palavras_sem_rep))\n",
    "        prob_palavra_r = lista_r.append((qtd_r + alfa) / (total_r + tot_palavras_sem_rep))\n",
    "        prob_palavra_i = lista_i.append((qtd_i + alfa) / (total_i + tot_palavras_sem_rep))\n",
    "        prob_palavra_mi = lista_mi.append((qtd_mi + alfa) / (total_mi + tot_palavras_sem_rep))\n",
    "    # Multiplicação das probabilidades por palavra, pela probabilidade da categoria.        \n",
    "    prob_total_mr = numpy.prod(lista_mr) * prob_mr\n",
    "    prob_total_r = numpy.prod(lista_r) * prob_r\n",
    "    prob_total_i = numpy.prod(lista_i) * prob_i\n",
    "    prob_total_mi = numpy.prod(lista_mi) * prob_mi\n",
    "    # Lista que armazena todas as probabilidades totais por categoria.\n",
    "    lista_prob_total = [prob_total_mr,prob_total_r,prob_total_i,prob_total_mi]\n",
    "    # Análise da maior probabilidade, e retorno da função.\n",
    "    if max(lista_prob_total) == prob_total_mr:\n",
    "        return 3\n",
    "    elif max(lista_prob_total) == prob_total_r:\n",
    "        return 2\n",
    "    elif max(lista_prob_total) == prob_total_i:\n",
    "        return 1\n",
    "    elif max(lista_prob_total) == prob_total_mi:\n",
    "        return 0"
   ]
  },
  {
   "cell_type": "code",
   "execution_count": 525,
   "metadata": {},
   "outputs": [],
   "source": [
    "# Aplicação da função na planilha de treinamento.\n",
    "train['Classificacao'] = train['Treinamento'].apply(classifica)"
   ]
  },
  {
   "cell_type": "code",
   "execution_count": 526,
   "metadata": {
    "scrolled": false
   },
   "outputs": [
    {
     "data": {
      "text/html": [
       "<div>\n",
       "<style scoped>\n",
       "    .dataframe tbody tr th:only-of-type {\n",
       "        vertical-align: middle;\n",
       "    }\n",
       "\n",
       "    .dataframe tbody tr th {\n",
       "        vertical-align: top;\n",
       "    }\n",
       "\n",
       "    .dataframe thead th {\n",
       "        text-align: right;\n",
       "    }\n",
       "</style>\n",
       "<table border=\"1\" class=\"dataframe\">\n",
       "  <thead>\n",
       "    <tr style=\"text-align: right;\">\n",
       "      <th>Classificacao</th>\n",
       "      <th>0</th>\n",
       "      <th>1</th>\n",
       "      <th>2</th>\n",
       "      <th>3</th>\n",
       "    </tr>\n",
       "    <tr>\n",
       "      <th>Relevância</th>\n",
       "      <th></th>\n",
       "      <th></th>\n",
       "      <th></th>\n",
       "      <th></th>\n",
       "    </tr>\n",
       "  </thead>\n",
       "  <tbody>\n",
       "    <tr>\n",
       "      <th>0</th>\n",
       "      <td>0.426</td>\n",
       "      <td>0.003</td>\n",
       "      <td>0.001</td>\n",
       "      <td>0.00</td>\n",
       "    </tr>\n",
       "    <tr>\n",
       "      <th>1</th>\n",
       "      <td>0.051</td>\n",
       "      <td>0.229</td>\n",
       "      <td>0.006</td>\n",
       "      <td>0.00</td>\n",
       "    </tr>\n",
       "    <tr>\n",
       "      <th>2</th>\n",
       "      <td>0.039</td>\n",
       "      <td>0.016</td>\n",
       "      <td>0.153</td>\n",
       "      <td>0.00</td>\n",
       "    </tr>\n",
       "    <tr>\n",
       "      <th>3</th>\n",
       "      <td>0.019</td>\n",
       "      <td>0.017</td>\n",
       "      <td>0.020</td>\n",
       "      <td>0.02</td>\n",
       "    </tr>\n",
       "  </tbody>\n",
       "</table>\n",
       "</div>"
      ],
      "text/plain": [
       "Classificacao      0      1      2     3\n",
       "Relevância                              \n",
       "0              0.426  0.003  0.001  0.00\n",
       "1              0.051  0.229  0.006  0.00\n",
       "2              0.039  0.016  0.153  0.00\n",
       "3              0.019  0.017  0.020  0.02"
      ]
     },
     "execution_count": 526,
     "metadata": {},
     "output_type": "execute_result"
    }
   ],
   "source": [
    "# Fazendo o crosstab para comparar a relevância e classificação da planilha treinamento.\n",
    "tabela = pd.crosstab(train['Relevância'], train['Classificacao'], normalize='all')\n",
    "tabela"
   ]
  },
  {
   "cell_type": "code",
   "execution_count": 527,
   "metadata": {
    "scrolled": false
   },
   "outputs": [
    {
     "data": {
      "text/plain": [
       "'82.80%'"
      ]
     },
     "execution_count": 527,
     "metadata": {},
     "output_type": "execute_result"
    }
   ],
   "source": [
    "# Eficácia do classificador na planilha de treinamento.\n",
    "f'{(tabela.iloc[0,0] + tabela.iloc[1,1] + tabela.iloc[2,2] + tabela.iloc[3,3])*100:.2f}%'"
   ]
  },
  {
   "cell_type": "markdown",
   "metadata": {},
   "source": [
    "___\n",
    "### Verificando a performance do Classificador\n",
    "\n",
    "Agora você deve testar o seu classificador com a base de Testes."
   ]
  },
  {
   "cell_type": "code",
   "execution_count": 528,
   "metadata": {},
   "outputs": [],
   "source": [
    "# Transformando test['Relevância'] em categórica.\n",
    "test['Relevância'] = test['Relevância'].astype('category')\n",
    "test['Relevância'].cat.categories = [0,1,2,3]"
   ]
  },
  {
   "cell_type": "code",
   "execution_count": 529,
   "metadata": {},
   "outputs": [],
   "source": [
    "# # Aplicação da função na planilha de teste.\n",
    "test['Classificacao'] = test['Teste'].apply(classifica)"
   ]
  },
  {
   "cell_type": "code",
   "execution_count": 530,
   "metadata": {
    "scrolled": false
   },
   "outputs": [
    {
     "data": {
      "text/html": [
       "<div>\n",
       "<style scoped>\n",
       "    .dataframe tbody tr th:only-of-type {\n",
       "        vertical-align: middle;\n",
       "    }\n",
       "\n",
       "    .dataframe tbody tr th {\n",
       "        vertical-align: top;\n",
       "    }\n",
       "\n",
       "    .dataframe thead th {\n",
       "        text-align: right;\n",
       "    }\n",
       "</style>\n",
       "<table border=\"1\" class=\"dataframe\">\n",
       "  <thead>\n",
       "    <tr style=\"text-align: right;\">\n",
       "      <th>Classificacao</th>\n",
       "      <th>0</th>\n",
       "      <th>1</th>\n",
       "      <th>2</th>\n",
       "    </tr>\n",
       "    <tr>\n",
       "      <th>Relevância</th>\n",
       "      <th></th>\n",
       "      <th></th>\n",
       "      <th></th>\n",
       "    </tr>\n",
       "  </thead>\n",
       "  <tbody>\n",
       "    <tr>\n",
       "      <th>0</th>\n",
       "      <td>0.252</td>\n",
       "      <td>0.084</td>\n",
       "      <td>0.016</td>\n",
       "    </tr>\n",
       "    <tr>\n",
       "      <th>1</th>\n",
       "      <td>0.156</td>\n",
       "      <td>0.076</td>\n",
       "      <td>0.020</td>\n",
       "    </tr>\n",
       "    <tr>\n",
       "      <th>2</th>\n",
       "      <td>0.120</td>\n",
       "      <td>0.052</td>\n",
       "      <td>0.044</td>\n",
       "    </tr>\n",
       "    <tr>\n",
       "      <th>3</th>\n",
       "      <td>0.092</td>\n",
       "      <td>0.036</td>\n",
       "      <td>0.052</td>\n",
       "    </tr>\n",
       "  </tbody>\n",
       "</table>\n",
       "</div>"
      ],
      "text/plain": [
       "Classificacao      0      1      2\n",
       "Relevância                        \n",
       "0              0.252  0.084  0.016\n",
       "1              0.156  0.076  0.020\n",
       "2              0.120  0.052  0.044\n",
       "3              0.092  0.036  0.052"
      ]
     },
     "execution_count": 530,
     "metadata": {},
     "output_type": "execute_result"
    }
   ],
   "source": [
    "\n",
    "# # Fazendo o crosstab para comparar a relevância e classificação da planilha de teste.\n",
    "tabela_test = pd.crosstab(test['Relevância'], test['Classificacao'], normalize='all')\n",
    "tabela_test"
   ]
  },
  {
   "cell_type": "code",
   "execution_count": 531,
   "metadata": {},
   "outputs": [
    {
     "data": {
      "text/plain": [
       "'Nosso classificador acertou:37.20%'"
      ]
     },
     "execution_count": 531,
     "metadata": {},
     "output_type": "execute_result"
    }
   ],
   "source": [
    "# Eficácia do classificador na planilha de teste.\n",
    "f'Nosso classificador acertou:{(tabela_test.iloc[0,0] + tabela_test.iloc[1,1] + tabela_test.iloc[2,2] + 0)*100:.2f}%'"
   ]
  },
  {
   "cell_type": "markdown",
   "metadata": {},
   "source": [
    "___\n",
    "### Verificando performance do classificador"
   ]
  },
  {
   "cell_type": "code",
   "execution_count": 532,
   "metadata": {},
   "outputs": [
    {
     "name": "stdout",
     "output_type": "stream",
     "text": [
      "Porcentagem de mensagens muito relevantes e que foram classificadas como muito relevantes:0.00%\n",
      "\n",
      "Porcentagem de mensagens relevantes e que foram classificadas como relevantes:4.40%\n"
     ]
    }
   ],
   "source": [
    "# Porcentagem de verdadeiros positivos.\n",
    "print(f'Porcentagem de mensagens muito relevantes e que foram classificadas como muito relevantes:{0*100:.2f}%')\n",
    "print('')\n",
    "print(f'Porcentagem de mensagens relevantes e que foram classificadas como relevantes:{(tabela_test.iloc[2,2])*100:.2f}%')"
   ]
  },
  {
   "cell_type": "code",
   "execution_count": 533,
   "metadata": {
    "scrolled": true
   },
   "outputs": [
    {
     "name": "stdout",
     "output_type": "stream",
     "text": [
      "Porcentagem de mensagens muito irrelevantes e que foram classificadas como muito relevantes:0.00%\n",
      "\n",
      "Porcentagem de mensagens muito irrelevantes e que foram classificadas como relevantes:1.60%\n",
      "\n",
      "Porcentagem de mensagens irrelevantes e que foram classificadas como muito relevantes:0.00%\n",
      "\n",
      "Porcentagem de mensagens irrelevantes e que foram classificadas como relevantes:2.00%\n"
     ]
    }
   ],
   "source": [
    "# Porcentagem de falsos positivos.\n",
    "print(f'Porcentagem de mensagens muito irrelevantes e que foram classificadas como muito relevantes:{0*100:.2f}%')\n",
    "print('')\n",
    "print(f'Porcentagem de mensagens muito irrelevantes e que foram classificadas como relevantes:{(tabela_test.iloc[0,2])*100:.2f}%')\n",
    "print('')\n",
    "print(f'Porcentagem de mensagens irrelevantes e que foram classificadas como muito relevantes:{0*100:.2f}%')\n",
    "print('')\n",
    "print(f'Porcentagem de mensagens irrelevantes e que foram classificadas como relevantes:{(tabela_test.iloc[1,2])*100:.2f}%')"
   ]
  },
  {
   "cell_type": "code",
   "execution_count": 534,
   "metadata": {},
   "outputs": [
    {
     "name": "stdout",
     "output_type": "stream",
     "text": [
      "Porcentagem de mensagens muito irrelevantes e que foram classificadas como muito irrelevantes:25.20%\n",
      "\n",
      "Porcentagem de mensagens irrelevantes e que foram classificadas como irrelevantes:7.60%\n"
     ]
    }
   ],
   "source": [
    "# Porcentagem de verdadeiros negativos.\n",
    "print(f'Porcentagem de mensagens muito irrelevantes e que foram classificadas como muito irrelevantes:{(tabela_test.iloc[0,0])*100:.2f}%')\n",
    "print('')\n",
    "print(f'Porcentagem de mensagens irrelevantes e que foram classificadas como irrelevantes:{(tabela_test.iloc[1,1])*100:.2f}%')"
   ]
  },
  {
   "cell_type": "code",
   "execution_count": 535,
   "metadata": {},
   "outputs": [
    {
     "name": "stdout",
     "output_type": "stream",
     "text": [
      "\n",
      "Porcentagem de mensagens muito relevantes e que foram classificadas como irrelevantes:3.60%\n",
      "\n",
      "Porcentagem de mensagens relevantes e que foram classificadas como muito irrelevantes:12.00%\n",
      "\n",
      "Porcentagem de mensagens relevantes e que foram classificadas como irrelevantes:5.20%\n"
     ]
    }
   ],
   "source": [
    "# Porcentagem de falsos negativos.\n",
    "(f'Porcentagem de mensagens muito relevantes e que foram classificadas como muito irrelevantes:{(tabela_test.iloc[3,0])*100:.2f}%')\n",
    "print('')\n",
    "print(f'Porcentagem de mensagens muito relevantes e que foram classificadas como irrelevantes:{(tabela_test.iloc[3,1])*100:.2f}%')\n",
    "print('')\n",
    "print(f'Porcentagem de mensagens relevantes e que foram classificadas como muito irrelevantes:{(tabela_test.iloc[2,0])*100:.2f}%')\n",
    "print('')\n",
    "print(f'Porcentagem de mensagens relevantes e que foram classificadas como irrelevantes:{(tabela_test.iloc[2,1])*100:.2f}%')"
   ]
  },
  {
   "cell_type": "code",
   "execution_count": 536,
   "metadata": {},
   "outputs": [
    {
     "name": "stdout",
     "output_type": "stream",
     "text": [
      "Acurácia total: \n",
      "37.20%\n"
     ]
    }
   ],
   "source": [
    "# Eficácia do classificador na planilha de testes.\n",
    "print('Acurácia total: ')\n",
    "print(f'{(tabela_test.iloc[0,0] + tabela_test.iloc[1,1] + tabela_test.iloc[2,2] + 0)*100:.2f}%')\n"
   ]
  },
  {
   "cell_type": "markdown",
   "metadata": {},
   "source": [
    "___\n",
    "### Concluindo"
   ]
  },
  {
   "cell_type": "markdown",
   "metadata": {},
   "source": [
    "\n",
    "#### Explicação de como são tratadas as mensagens com dupla negação e sarcasmo.\n",
    "O classificador Naïve-Bayes funciona através do reconhecimento de palavras e cálculo de suas probabilidades. Por conta disso afirma-se que não é possivel analisar se um frase possui sarcasmo ou dupla negação. "
   ]
  },
  {
   "cell_type": "markdown",
   "metadata": {},
   "source": [
    "\n",
    "#### Porque devem continuar financiando nosso projeto?\n",
    "O nosso projeto deve ser financiado, tendo em vista que com o decorrer do tempo, a nossa base de dados aumenta, influenciando tambem na melhoria de nossa precisão e exatidão.\n"
   ]
  },
  {
   "cell_type": "markdown",
   "metadata": {},
   "source": [
    "\n",
    "#### Porque não se pode alimentar a própria base de treinamento usando o classificador aplicado a novos tweets?\n",
    "Nós não podemos utilizar o próprio classificador para alimentar a base de treinamentos, porque a função que classifica foi programada a partir das classificações de treinamentos. Sendo assim, a cada classificação nova, o modelo da função é alterado, fazendo com que nunca se resulte em algo padronizado."
   ]
  },
  {
   "cell_type": "markdown",
   "metadata": {},
   "source": [
    "\n",
    "#### Diferentes cenários de uso para o classificador Naïve-Bayes.\n",
    "O classificador probabilístico Naïve-Bayes caracteriza-se por ser muito útil para se realizar análises automáticas de qualquer produto,pessoa,marca... Portanto é possivel utilizá-lo em diversos cenários diferentes,por exemplo as diversas classificações feitas pelo IBGE, como renda per capita, estimativa de vida, estimativa de população até uma certa data etc..."
   ]
  },
  {
   "cell_type": "markdown",
   "metadata": {},
   "source": [
    "___\n",
    "## Aperfeiçoamento:\n",
    "\n",
    "Trabalhos que conseguirem pelo menos conceito B vão evoluir em conceito dependendo da quantidade de itens avançados:\n",
    "\n",
    "* IMPLEMENTOU outras limpezas e transformações que não afetem a qualidade da informação contida nos tweets. Ex: stemming, lemmatization, stopwords\n",
    "* CORRIGIU separação de espaços entre palavras e emojis ou entre emojis e emojis\n",
    "* CRIOU categorias intermediárias de relevância baseadas na probabilidade: ex.: muito relevante, relevante, neutro, irrelevante, muito irrelevante. Pelo menos quatro categorias, com adição de mais tweets na base, conforme enunciado. (OBRIGATÓRIO PARA TRIOS, sem contar como item avançado)\n",
    "* EXPLICOU porquê não pode usar o próprio classificador para gerar mais amostras de treinamento\n",
    "* PROPÔS diferentes cenários para Naïve Bayes fora do contexto do projeto\n",
    "* SUGERIU e EXPLICOU melhorias reais com indicações concretas de como implementar (indicar como fazer e indicar material de pesquisa)\n",
    "* FEZ o item 6. Qualidade do Classificador a partir de novas separações dos tweets entre Treinamento e Teste descrito no enunciado do projeto (OBRIGATÓRIO para conceitos A ou A+)"
   ]
  },
  {
   "cell_type": "markdown",
   "metadata": {},
   "source": [
    "___\n",
    "## Referências"
   ]
  },
  {
   "cell_type": "markdown",
   "metadata": {},
   "source": [
    "[Naive Bayes and Text Classification](https://arxiv.org/pdf/1410.5329.pdf)  **Mais completo**\n",
    "\n",
    "[A practical explanation of a Naive Bayes Classifier](https://monkeylearn.com/blog/practical-explanation-naive-bayes-classifier/) **Mais simples**"
   ]
  }
 ],
 "metadata": {
  "interpreter": {
   "hash": "7c3853fa688552a70f44d16e7d5650405e277aa74d3a04026ad6f833ca585374"
  },
  "kernelspec": {
   "display_name": "Python 3",
   "language": "python",
   "name": "python3"
  },
  "language_info": {
   "codemirror_mode": {
    "name": "ipython",
    "version": 3
   },
   "file_extension": ".py",
   "mimetype": "text/x-python",
   "name": "python",
   "nbconvert_exporter": "python",
   "pygments_lexer": "ipython3",
   "version": "3.8.5"
  }
 },
 "nbformat": 4,
 "nbformat_minor": 4
}
