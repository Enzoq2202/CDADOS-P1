{
 "cells": [
  {
   "cell_type": "markdown",
   "metadata": {},
   "source": [
    "# Projeto 1 - Ciência dos Dados"
   ]
  },
  {
   "cell_type": "markdown",
   "metadata": {},
   "source": [
    "Nome: Enzo Qental\n",
    "\n",
    "Nome: João Pedro Artese de Natal\n",
    "\n",
    "Nome: João Pedro Ramos Fiorin"
   ]
  },
  {
   "cell_type": "markdown",
   "metadata": {},
   "source": [
    "Atenção: Serão permitidos grupos de três pessoas, mas com uma rubrica mais exigente. Grupos deste tamanho precisarão fazer um questionário de avaliação de trabalho em equipe"
   ]
  },
  {
   "cell_type": "markdown",
   "metadata": {},
   "source": [
    "___\n",
    "Carregando algumas bibliotecas:"
   ]
  },
  {
   "cell_type": "code",
   "execution_count": 132,
   "metadata": {},
   "outputs": [],
   "source": [
    "%matplotlib inline\n",
    "import pandas as pd\n",
    "import matplotlib.pyplot as plt\n",
    "import numpy as np\n",
    "import os\n",
    "import re "
   ]
  },
  {
   "cell_type": "code",
   "execution_count": 133,
   "metadata": {
    "scrolled": false
   },
   "outputs": [
    {
     "name": "stdout",
     "output_type": "stream",
     "text": [
      "Esperamos trabalhar no diretório\n",
      "C:\\Users\\jprfi\\OneDrive\\Área de Trabalho\\CDADOS\\Projeto 1\\CDADOS-P1\n"
     ]
    }
   ],
   "source": [
    "print('Esperamos trabalhar no diretório')\n",
    "print(os.getcwd())"
   ]
  },
  {
   "cell_type": "markdown",
   "metadata": {},
   "source": [
    "Carregando a base de dados com os tweets classificados como relevantes e não relevantes:"
   ]
  },
  {
   "cell_type": "code",
   "execution_count": 134,
   "metadata": {},
   "outputs": [],
   "source": [
    "filename = 'Iphone1250.xlsx'"
   ]
  },
  {
   "cell_type": "code",
   "execution_count": 135,
   "metadata": {},
   "outputs": [
    {
     "data": {
      "text/html": [
       "<div>\n",
       "<style scoped>\n",
       "    .dataframe tbody tr th:only-of-type {\n",
       "        vertical-align: middle;\n",
       "    }\n",
       "\n",
       "    .dataframe tbody tr th {\n",
       "        vertical-align: top;\n",
       "    }\n",
       "\n",
       "    .dataframe thead th {\n",
       "        text-align: right;\n",
       "    }\n",
       "</style>\n",
       "<table border=\"1\" class=\"dataframe\">\n",
       "  <thead>\n",
       "    <tr style=\"text-align: right;\">\n",
       "      <th></th>\n",
       "      <th>Treinamento</th>\n",
       "      <th>Relevância</th>\n",
       "    </tr>\n",
       "  </thead>\n",
       "  <tbody>\n",
       "    <tr>\n",
       "      <th>0</th>\n",
       "      <td>eu achava iphone caro,até pagar o preço de nun...</td>\n",
       "      <td>1</td>\n",
       "    </tr>\n",
       "    <tr>\n",
       "      <th>1</th>\n",
       "      <td>novamente sem carregador, essa vida usuária de...</td>\n",
       "      <td>2</td>\n",
       "    </tr>\n",
       "    <tr>\n",
       "      <th>2</th>\n",
       "      <td>se fôssemos trocar de celular vocês ficariam c...</td>\n",
       "      <td>2</td>\n",
       "    </tr>\n",
       "    <tr>\n",
       "      <th>3</th>\n",
       "      <td>@zaynikr mas gente, ela tem uns 3 telefones co...</td>\n",
       "      <td>2</td>\n",
       "    </tr>\n",
       "    <tr>\n",
       "      <th>4</th>\n",
       "      <td>esse face id do iphone que se eu tiver com a b...</td>\n",
       "      <td>3</td>\n",
       "    </tr>\n",
       "  </tbody>\n",
       "</table>\n",
       "</div>"
      ],
      "text/plain": [
       "                                         Treinamento  Relevância\n",
       "0  eu achava iphone caro,até pagar o preço de nun...           1\n",
       "1  novamente sem carregador, essa vida usuária de...           2\n",
       "2  se fôssemos trocar de celular vocês ficariam c...           2\n",
       "3  @zaynikr mas gente, ela tem uns 3 telefones co...           2\n",
       "4  esse face id do iphone que se eu tiver com a b...           3"
      ]
     },
     "execution_count": 135,
     "metadata": {},
     "output_type": "execute_result"
    }
   ],
   "source": [
    "train = pd.read_excel(filename)\n",
    "train.head(5)"
   ]
  },
  {
   "cell_type": "code",
   "execution_count": 136,
   "metadata": {},
   "outputs": [
    {
     "data": {
      "text/html": [
       "<div>\n",
       "<style scoped>\n",
       "    .dataframe tbody tr th:only-of-type {\n",
       "        vertical-align: middle;\n",
       "    }\n",
       "\n",
       "    .dataframe tbody tr th {\n",
       "        vertical-align: top;\n",
       "    }\n",
       "\n",
       "    .dataframe thead th {\n",
       "        text-align: right;\n",
       "    }\n",
       "</style>\n",
       "<table border=\"1\" class=\"dataframe\">\n",
       "  <thead>\n",
       "    <tr style=\"text-align: right;\">\n",
       "      <th></th>\n",
       "      <th>Teste</th>\n",
       "      <th>Relevância</th>\n",
       "    </tr>\n",
       "  </thead>\n",
       "  <tbody>\n",
       "    <tr>\n",
       "      <th>0</th>\n",
       "      <td>voltei c iphone, que sdd que eu estava meu deus</td>\n",
       "      <td>1</td>\n",
       "    </tr>\n",
       "    <tr>\n",
       "      <th>1</th>\n",
       "      <td>@user928373891 sofreu por ser usuário de iphone</td>\n",
       "      <td>0</td>\n",
       "    </tr>\n",
       "    <tr>\n",
       "      <th>2</th>\n",
       "      <td>so pq tem um iphone, é triste viu kkkkkjjjjj h...</td>\n",
       "      <td>0</td>\n",
       "    </tr>\n",
       "    <tr>\n",
       "      <th>3</th>\n",
       "      <td>vendo carregador de iphone (novinho e preço ne...</td>\n",
       "      <td>0</td>\n",
       "    </tr>\n",
       "    <tr>\n",
       "      <th>4</th>\n",
       "      <td>ela vive dando reply nos story usando iphone k...</td>\n",
       "      <td>0</td>\n",
       "    </tr>\n",
       "  </tbody>\n",
       "</table>\n",
       "</div>"
      ],
      "text/plain": [
       "                                               Teste  Relevância\n",
       "0    voltei c iphone, que sdd que eu estava meu deus           1\n",
       "1    @user928373891 sofreu por ser usuário de iphone           0\n",
       "2  so pq tem um iphone, é triste viu kkkkkjjjjj h...           0\n",
       "3  vendo carregador de iphone (novinho e preço ne...           0\n",
       "4  ela vive dando reply nos story usando iphone k...           0"
      ]
     },
     "execution_count": 136,
     "metadata": {},
     "output_type": "execute_result"
    }
   ],
   "source": [
    "test = pd.read_excel(filename, sheet_name = 'Teste')\n",
    "test.head(5)"
   ]
  },
  {
   "cell_type": "markdown",
   "metadata": {},
   "source": [
    "___\n",
    "## Classificador automático de sentimento\n"
   ]
  },
  {
   "cell_type": "markdown",
   "metadata": {},
   "source": [
    "Faça aqui uma descrição do seu produto e o que considerou como relevante ou não relevante na classificação dos tweets.\n",
    "\n",
    "Celular da Apple. Consideramos como uma postagem relevante quando o conteúdo se trata de alguma crítica ou análise sobre o produto, caso o contrário, consideramos como não relevante."
   ]
  },
  {
   "cell_type": "markdown",
   "metadata": {},
   "source": [
    "___\n",
    "### Montando as funções de limpeza dos twits.\n",
    "\n",
    "Criando as funções que irão limpar os nossos dados das duas planilhas(Treinamento e Teste)."
   ]
  },
  {
   "cell_type": "code",
   "execution_count": 137,
   "metadata": {},
   "outputs": [],
   "source": [
    "def cleanup(text):\n",
    "    punctuation = '[!-.:?;()\\'\",_%$\\\\|/,<>[\\]]'\n",
    "    pattern = re.compile(punctuation)\n",
    "    text_subbed = re.sub(pattern, '', text).lower()\n",
    "\n",
    "    filtro = filter(lambda palavra: palavra[0]!='@', text_subbed.split())\n",
    "    return list(filtro)"
   ]
  },
  {
   "cell_type": "code",
   "execution_count": 138,
   "metadata": {
    "scrolled": false
   },
   "outputs": [
    {
     "data": {
      "text/html": [
       "<div>\n",
       "<style scoped>\n",
       "    .dataframe tbody tr th:only-of-type {\n",
       "        vertical-align: middle;\n",
       "    }\n",
       "\n",
       "    .dataframe tbody tr th {\n",
       "        vertical-align: top;\n",
       "    }\n",
       "\n",
       "    .dataframe thead th {\n",
       "        text-align: right;\n",
       "    }\n",
       "</style>\n",
       "<table border=\"1\" class=\"dataframe\">\n",
       "  <thead>\n",
       "    <tr style=\"text-align: right;\">\n",
       "      <th></th>\n",
       "      <th>Treinamento</th>\n",
       "      <th>Relevância</th>\n",
       "    </tr>\n",
       "  </thead>\n",
       "  <tbody>\n",
       "    <tr>\n",
       "      <th>0</th>\n",
       "      <td>[eu, achava, iphone, caroaté, pagar, o, preço,...</td>\n",
       "      <td>1</td>\n",
       "    </tr>\n",
       "    <tr>\n",
       "      <th>1</th>\n",
       "      <td>[novamente, sem, carregador, essa, vida, usuár...</td>\n",
       "      <td>2</td>\n",
       "    </tr>\n",
       "    <tr>\n",
       "      <th>2</th>\n",
       "      <td>[se, fôssemos, trocar, de, celular, vocês, fic...</td>\n",
       "      <td>2</td>\n",
       "    </tr>\n",
       "    <tr>\n",
       "      <th>3</th>\n",
       "      <td>[mas, gente, ela, tem, uns, 3, telefones, como...</td>\n",
       "      <td>2</td>\n",
       "    </tr>\n",
       "    <tr>\n",
       "      <th>4</th>\n",
       "      <td>[esse, face, id, do, iphone, que, se, eu, tive...</td>\n",
       "      <td>3</td>\n",
       "    </tr>\n",
       "    <tr>\n",
       "      <th>...</th>\n",
       "      <td>...</td>\n",
       "      <td>...</td>\n",
       "    </tr>\n",
       "    <tr>\n",
       "      <th>995</th>\n",
       "      <td>[iphone, xr, 89, de, bateria, amigo, está, ven...</td>\n",
       "      <td>1</td>\n",
       "    </tr>\n",
       "    <tr>\n",
       "      <th>996</th>\n",
       "      <td>[meu, namorado, me, deu, um, iphone, com, a, p...</td>\n",
       "      <td>1</td>\n",
       "    </tr>\n",
       "    <tr>\n",
       "      <th>997</th>\n",
       "      <td>[a, saudade, que, to, do, meu, iphone, é, surr...</td>\n",
       "      <td>1</td>\n",
       "    </tr>\n",
       "    <tr>\n",
       "      <th>998</th>\n",
       "      <td>[queria, criar, meu, vsco, logo, mas, iphone, ...</td>\n",
       "      <td>1</td>\n",
       "    </tr>\n",
       "    <tr>\n",
       "      <th>999</th>\n",
       "      <td>[meta, comprar, um, iphone, pra, nunca, mais, ...</td>\n",
       "      <td>1</td>\n",
       "    </tr>\n",
       "  </tbody>\n",
       "</table>\n",
       "<p>1000 rows × 2 columns</p>\n",
       "</div>"
      ],
      "text/plain": [
       "                                           Treinamento  Relevância\n",
       "0    [eu, achava, iphone, caroaté, pagar, o, preço,...           1\n",
       "1    [novamente, sem, carregador, essa, vida, usuár...           2\n",
       "2    [se, fôssemos, trocar, de, celular, vocês, fic...           2\n",
       "3    [mas, gente, ela, tem, uns, 3, telefones, como...           2\n",
       "4    [esse, face, id, do, iphone, que, se, eu, tive...           3\n",
       "..                                                 ...         ...\n",
       "995  [iphone, xr, 89, de, bateria, amigo, está, ven...           1\n",
       "996  [meu, namorado, me, deu, um, iphone, com, a, p...           1\n",
       "997  [a, saudade, que, to, do, meu, iphone, é, surr...           1\n",
       "998  [queria, criar, meu, vsco, logo, mas, iphone, ...           1\n",
       "999  [meta, comprar, um, iphone, pra, nunca, mais, ...           1\n",
       "\n",
       "[1000 rows x 2 columns]"
      ]
     },
     "execution_count": 138,
     "metadata": {},
     "output_type": "execute_result"
    }
   ],
   "source": [
    "train['Treinamento'] = train['Treinamento'].apply(cleanup)\n",
    "train"
   ]
  },
  {
   "cell_type": "code",
   "execution_count": 139,
   "metadata": {
    "scrolled": false
   },
   "outputs": [
    {
     "data": {
      "text/html": [
       "<div>\n",
       "<style scoped>\n",
       "    .dataframe tbody tr th:only-of-type {\n",
       "        vertical-align: middle;\n",
       "    }\n",
       "\n",
       "    .dataframe tbody tr th {\n",
       "        vertical-align: top;\n",
       "    }\n",
       "\n",
       "    .dataframe thead th {\n",
       "        text-align: right;\n",
       "    }\n",
       "</style>\n",
       "<table border=\"1\" class=\"dataframe\">\n",
       "  <thead>\n",
       "    <tr style=\"text-align: right;\">\n",
       "      <th></th>\n",
       "      <th>Teste</th>\n",
       "      <th>Relevância</th>\n",
       "    </tr>\n",
       "  </thead>\n",
       "  <tbody>\n",
       "    <tr>\n",
       "      <th>0</th>\n",
       "      <td>[voltei, c, iphone, que, sdd, que, eu, estava,...</td>\n",
       "      <td>1</td>\n",
       "    </tr>\n",
       "    <tr>\n",
       "      <th>1</th>\n",
       "      <td>[sofreu, por, ser, usuário, de, iphone]</td>\n",
       "      <td>0</td>\n",
       "    </tr>\n",
       "    <tr>\n",
       "      <th>2</th>\n",
       "      <td>[so, pq, tem, um, iphone, é, triste, viu, kkkk...</td>\n",
       "      <td>0</td>\n",
       "    </tr>\n",
       "    <tr>\n",
       "      <th>3</th>\n",
       "      <td>[vendo, carregador, de, iphone, novinho, e, pr...</td>\n",
       "      <td>0</td>\n",
       "    </tr>\n",
       "    <tr>\n",
       "      <th>4</th>\n",
       "      <td>[ela, vive, dando, reply, nos, story, usando, ...</td>\n",
       "      <td>0</td>\n",
       "    </tr>\n",
       "    <tr>\n",
       "      <th>...</th>\n",
       "      <td>...</td>\n",
       "      <td>...</td>\n",
       "    </tr>\n",
       "    <tr>\n",
       "      <th>245</th>\n",
       "      <td>[como, instalar, o, whatsapp, gb, watusi, no, ...</td>\n",
       "      <td>0</td>\n",
       "    </tr>\n",
       "    <tr>\n",
       "      <th>246</th>\n",
       "      <td>[minha, vida, mudou, depois, que, o, vinicius,...</td>\n",
       "      <td>0</td>\n",
       "    </tr>\n",
       "    <tr>\n",
       "      <th>247</th>\n",
       "      <td>[a, bateria, do, meu, celular, tá, parecendo, ...</td>\n",
       "      <td>2</td>\n",
       "    </tr>\n",
       "    <tr>\n",
       "      <th>248</th>\n",
       "      <td>[narcisa, me, dá, um, iphone, 🥺]</td>\n",
       "      <td>0</td>\n",
       "    </tr>\n",
       "    <tr>\n",
       "      <th>249</th>\n",
       "      <td>[eu, achando, q, era, cabo, de, iphone, kkkkkk]</td>\n",
       "      <td>0</td>\n",
       "    </tr>\n",
       "  </tbody>\n",
       "</table>\n",
       "<p>250 rows × 2 columns</p>\n",
       "</div>"
      ],
      "text/plain": [
       "                                                 Teste  Relevância\n",
       "0    [voltei, c, iphone, que, sdd, que, eu, estava,...           1\n",
       "1              [sofreu, por, ser, usuário, de, iphone]           0\n",
       "2    [so, pq, tem, um, iphone, é, triste, viu, kkkk...           0\n",
       "3    [vendo, carregador, de, iphone, novinho, e, pr...           0\n",
       "4    [ela, vive, dando, reply, nos, story, usando, ...           0\n",
       "..                                                 ...         ...\n",
       "245  [como, instalar, o, whatsapp, gb, watusi, no, ...           0\n",
       "246  [minha, vida, mudou, depois, que, o, vinicius,...           0\n",
       "247  [a, bateria, do, meu, celular, tá, parecendo, ...           2\n",
       "248                   [narcisa, me, dá, um, iphone, 🥺]           0\n",
       "249    [eu, achando, q, era, cabo, de, iphone, kkkkkk]           0\n",
       "\n",
       "[250 rows x 2 columns]"
      ]
     },
     "execution_count": 139,
     "metadata": {},
     "output_type": "execute_result"
    }
   ],
   "source": [
    "test['Teste'] = test['Teste'].apply(cleanup)\n",
    "test"
   ]
  },
  {
   "cell_type": "markdown",
   "metadata": {},
   "source": [
    "___\n",
    "### Montando um Classificador Naive-Bayes\n",
    "\n",
    "Considerando apenas as mensagens da planilha Treinamento, ensine  seu classificador."
   ]
  },
  {
   "cell_type": "code",
   "execution_count": 140,
   "metadata": {},
   "outputs": [],
   "source": [
    "# Separando os tweets por relevância.\n",
    "muito_relevante = train['Relevância'] == 3\n",
    "relevante = train['Relevância'] == 2\n",
    "irrelevante = train['Relevância'] == 1\n",
    "muito_irrelevante = train['Relevância'] == 0"
   ]
  },
  {
   "cell_type": "code",
   "execution_count": 141,
   "metadata": {},
   "outputs": [],
   "source": [
    "# Separando os tweets por relevância em variáveis.\n",
    "df_muito_relevante = train.loc[muito_relevante, :]\n",
    "df_relevante = train.loc[relevante, :]\n",
    "df_irrelevante = train.loc[irrelevante, :]\n",
    "df_muito_irrelevante = train.loc[muito_irrelevante, :]"
   ]
  },
  {
   "cell_type": "code",
   "execution_count": 142,
   "metadata": {},
   "outputs": [],
   "source": [
    "# Colocando todas as palavras, por categoria, em uma lista.\n",
    "total_palavras_mr = sum(df_muito_relevante['Treinamento'], [])\n",
    "total_palavras_r = sum(df_relevante['Treinamento'], [])\n",
    "total_palavras_i = sum(df_irrelevante['Treinamento'], [])\n",
    "total_palavras_mi = sum(df_muito_irrelevante['Treinamento'], [])"
   ]
  },
  {
   "cell_type": "code",
   "execution_count": 143,
   "metadata": {},
   "outputs": [],
   "source": [
    "# Transformando as palavras da lista em um Pandas Series. \n",
    "series_mr = pd.Series(total_palavras_mr)\n",
    "series_r = pd.Series(total_palavras_r)\n",
    "series_i = pd.Series(total_palavras_i)\n",
    "series_mi = pd.Series(total_palavras_mi)"
   ]
  },
  {
   "cell_type": "code",
   "execution_count": 144,
   "metadata": {},
   "outputs": [],
   "source": [
    "# Calculando o total de palavras, sem repetições, de todas as categorias.\n",
    "tot_palavras_sem_rep = len(series_mr.value_counts()) + len(series_r.value_counts()) + len(series_i.value_counts()) + len(series_mi.value_counts())"
   ]
  },
  {
   "cell_type": "code",
   "execution_count": 145,
   "metadata": {},
   "outputs": [],
   "source": [
    "# Total de palavras por categoria. \n",
    "total_mr = len(total_palavras_mr)\n",
    "total_r = len(total_palavras_r)\n",
    "total_i = len(total_palavras_i)\n",
    "total_mi = len(total_palavras_mi)"
   ]
  },
  {
   "cell_type": "code",
   "execution_count": 146,
   "metadata": {},
   "outputs": [],
   "source": [
    "# Probabilidade de cada categoria: \n",
    "prob_mr = len(df_muito_relevante)/len(train[\"Treinamento\"])\n",
    "prob_r = len(df_relevante)/len(train[\"Treinamento\"])\n",
    "prob_i = len(df_irrelevante)/len(train[\"Treinamento\"])\n",
    "prob_mi = len(df_muito_irrelevante)/len(train[\"Treinamento\"])"
   ]
  },
  {
   "cell_type": "code",
   "execution_count": 147,
   "metadata": {},
   "outputs": [],
   "source": [
    "import numpy\n",
    "\n",
    "def classifica(frase):\n",
    "    lista_palavras_frase = frase.split(' ')\n",
    "    alfa = 1\n",
    "    lista_mr = []\n",
    "    lista_r = []\n",
    "    lista_i = []\n",
    "    lista_mi = []\n",
    "    \n",
    "    for palavra in lista_palavras_frase:\n",
    "        if palavra in total_palavras_mr or palavra in total_palavras_r or palavra in total_palavras_i or palavra in total_palavras_mi:\n",
    "            qtd_mr = series_mr.value_counts()[palavra]\n",
    "            qtd_r = series_r.value_counts()[palavra]\n",
    "            qtd_i = series_i.value_counts()[palavra]\n",
    "            qtd_mi = series_mi.value_counts()[palavra]\n",
    "            \n",
    "            prob_palavra_mr = lista_mr.append((qtd_mr + alfa) / (total_mr + tot_palavras_sem_rep))\n",
    "            prob_palavra_r = lista_r.append((qtd_r + alfa) / (total_r + tot_palavras_sem_rep))\n",
    "            prob_palavra_i = lista_i.append((qtd_i + alfa) / (total_i + tot_palavras_sem_rep))\n",
    "            prob_palavra_mi = lista_mi.append((qtd_mi + alfa) / (total_mi + tot_palavras_sem_rep))\n",
    "        \n",
    "        else: \n",
    "            prob_palavra_mr = lista_mr.append(alfa / (total_mr + tot_palavras_sem_rep))\n",
    "            prob_palavra_r = lista_r.append(alfa / (total_r + tot_palavras_sem_rep))\n",
    "            prob_palavra_i = lista_i.append(alfa / (total_i + tot_palavras_sem_rep))\n",
    "            prob_palavra_mi = lista_mi.append(alfa / (total_mi + tot_palavras_sem_rep))\n",
    "            \n",
    "            \n",
    "    prob_total_mr = numpy.prod(lista_mr) * prob_mr\n",
    "    prob_total_r = numpy.prod(lista_r) * prob_r\n",
    "    prob_total_i = numpy.prod(lista_i) * prob_i\n",
    "    prob_total_mi = numpy.prod(lista_mi) * prob_mi\n",
    "    \n",
    "    lista_prob_total = [prob_total_mr,prob_total_r,prob_total_i,prob_total_mi]\n",
    "    \n",
    "    return max(lista_prob_total)"
   ]
  },
  {
   "cell_type": "markdown",
   "metadata": {},
   "source": [
    "___\n",
    "### Verificando a performance do Classificador\n",
    "\n",
    "Agora você deve testar o seu classificador com a base de Testes."
   ]
  },
  {
   "cell_type": "code",
   "execution_count": null,
   "metadata": {},
   "outputs": [],
   "source": []
  },
  {
   "cell_type": "code",
   "execution_count": null,
   "metadata": {},
   "outputs": [],
   "source": []
  },
  {
   "cell_type": "code",
   "execution_count": null,
   "metadata": {},
   "outputs": [],
   "source": []
  },
  {
   "cell_type": "markdown",
   "metadata": {},
   "source": [
    "___\n",
    "### Concluindo"
   ]
  },
  {
   "cell_type": "code",
   "execution_count": null,
   "metadata": {},
   "outputs": [],
   "source": []
  },
  {
   "cell_type": "code",
   "execution_count": null,
   "metadata": {},
   "outputs": [],
   "source": []
  },
  {
   "cell_type": "code",
   "execution_count": null,
   "metadata": {},
   "outputs": [],
   "source": []
  },
  {
   "cell_type": "markdown",
   "metadata": {},
   "source": [
    "___\n",
    "### Qualidade do Classificador a partir de novas separações dos tweets entre Treinamento e Teste\n",
    "\n",
    "Caso for fazer esse item do Projeto"
   ]
  },
  {
   "cell_type": "code",
   "execution_count": null,
   "metadata": {},
   "outputs": [],
   "source": []
  },
  {
   "cell_type": "code",
   "execution_count": null,
   "metadata": {},
   "outputs": [],
   "source": []
  },
  {
   "cell_type": "code",
   "execution_count": null,
   "metadata": {},
   "outputs": [],
   "source": []
  },
  {
   "cell_type": "markdown",
   "metadata": {},
   "source": [
    "___\n",
    "## Aperfeiçoamento:\n",
    "\n",
    "Trabalhos que conseguirem pelo menos conceito B vão evoluir em conceito dependendo da quantidade de itens avançados:\n",
    "\n",
    "* IMPLEMENTOU outras limpezas e transformações que não afetem a qualidade da informação contida nos tweets. Ex: stemming, lemmatization, stopwords\n",
    "* CORRIGIU separação de espaços entre palavras e emojis ou entre emojis e emojis\n",
    "* CRIOU categorias intermediárias de relevância baseadas na probabilidade: ex.: muito relevante, relevante, neutro, irrelevante, muito irrelevante. Pelo menos quatro categorias, com adição de mais tweets na base, conforme enunciado. (OBRIGATÓRIO PARA TRIOS, sem contar como item avançado)\n",
    "* EXPLICOU porquê não pode usar o próprio classificador para gerar mais amostras de treinamento\n",
    "* PROPÔS diferentes cenários para Naïve Bayes fora do contexto do projeto\n",
    "* SUGERIU e EXPLICOU melhorias reais com indicações concretas de como implementar (indicar como fazer e indicar material de pesquisa)\n",
    "* FEZ o item 6. Qualidade do Classificador a partir de novas separações dos tweets entre Treinamento e Teste descrito no enunciado do projeto (OBRIGATÓRIO para conceitos A ou A+)"
   ]
  },
  {
   "cell_type": "markdown",
   "metadata": {},
   "source": [
    "___\n",
    "## Referências"
   ]
  },
  {
   "cell_type": "markdown",
   "metadata": {},
   "source": [
    "[Naive Bayes and Text Classification](https://arxiv.org/pdf/1410.5329.pdf)  **Mais completo**\n",
    "\n",
    "[A practical explanation of a Naive Bayes Classifier](https://monkeylearn.com/blog/practical-explanation-naive-bayes-classifier/) **Mais simples**"
   ]
  },
  {
   "cell_type": "code",
   "execution_count": null,
   "metadata": {},
   "outputs": [],
   "source": []
  }
 ],
 "metadata": {
  "kernelspec": {
   "display_name": "Python 3",
   "language": "python",
   "name": "python3"
  },
  "language_info": {
   "codemirror_mode": {
    "name": "ipython",
    "version": 3
   },
   "file_extension": ".py",
   "mimetype": "text/x-python",
   "name": "python",
   "nbconvert_exporter": "python",
   "pygments_lexer": "ipython3",
   "version": "3.8.5"
  }
 },
 "nbformat": 4,
 "nbformat_minor": 4
}
