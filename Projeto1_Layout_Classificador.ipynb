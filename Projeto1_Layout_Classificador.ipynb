{
 "cells": [
  {
   "cell_type": "markdown",
   "source": [
    "# Projeto 1 - Ciência dos Dados"
   ],
   "metadata": {}
  },
  {
   "cell_type": "markdown",
   "source": [
    "Nome: Enzo Qental\n",
    "\n",
    "Nome: João Pedro Artese de Natal\n",
    "\n",
    "Nome: João Pedro Ramos Fiorin"
   ],
   "metadata": {}
  },
  {
   "cell_type": "markdown",
   "source": [
    "Atenção: Serão permitidos grupos de três pessoas, mas com uma rubrica mais exigente. Grupos deste tamanho precisarão fazer um questionário de avaliação de trabalho em equipe"
   ],
   "metadata": {}
  },
  {
   "cell_type": "markdown",
   "source": [
    "___\n",
    "Carregando algumas bibliotecas:"
   ],
   "metadata": {}
  },
  {
   "cell_type": "code",
   "execution_count": 76,
   "source": [
    "# Importando as funções que serão utilizadas no nosso classificador.\r\n",
    "%matplotlib inline\r\n",
    "import pandas as pd\r\n",
    "import matplotlib.pyplot as plt\r\n",
    "import numpy as np\r\n",
    "import os\r\n",
    "import re \r\n",
    "import nltk \r\n",
    "import numpy\r\n",
    "nltk.download('rslp')"
   ],
   "outputs": [
    {
     "output_type": "stream",
     "name": "stderr",
     "text": [
      "[nltk_data] Downloading package rslp to C:\\Users\\Eduardo\n",
      "[nltk_data]     Natal\\AppData\\Roaming\\nltk_data...\n",
      "[nltk_data]   Package rslp is already up-to-date!\n"
     ]
    },
    {
     "output_type": "execute_result",
     "data": {
      "text/plain": [
       "True"
      ]
     },
     "metadata": {},
     "execution_count": 76
    }
   ],
   "metadata": {}
  },
  {
   "cell_type": "code",
   "execution_count": 47,
   "source": [
    "print('Esperamos trabalhar no diretório')\r\n",
    "print(os.getcwd())"
   ],
   "outputs": [
    {
     "output_type": "stream",
     "name": "stdout",
     "text": [
      "Esperamos trabalhar no diretório\n",
      "c:\\Users\\Eduardo Natal\\Desktop\\c dados\\cdados p1\\CDADOS-P1\n"
     ]
    }
   ],
   "metadata": {
    "scrolled": false
   }
  },
  {
   "cell_type": "markdown",
   "source": [
    "Carregando a base de dados com os tweets classificados como relevantes e não relevantes:"
   ],
   "metadata": {}
  },
  {
   "cell_type": "code",
   "execution_count": 48,
   "source": [
    "filename = 'Iphone1250.xlsx'"
   ],
   "outputs": [],
   "metadata": {}
  },
  {
   "cell_type": "code",
   "execution_count": 49,
   "source": [
    "# Leitura do excel da planilha treinamento. \r\n",
    "train = pd.read_excel(filename)\r\n",
    "train.head(5)"
   ],
   "outputs": [
    {
     "output_type": "execute_result",
     "data": {
      "text/html": [
       "<div>\n",
       "<style scoped>\n",
       "    .dataframe tbody tr th:only-of-type {\n",
       "        vertical-align: middle;\n",
       "    }\n",
       "\n",
       "    .dataframe tbody tr th {\n",
       "        vertical-align: top;\n",
       "    }\n",
       "\n",
       "    .dataframe thead th {\n",
       "        text-align: right;\n",
       "    }\n",
       "</style>\n",
       "<table border=\"1\" class=\"dataframe\">\n",
       "  <thead>\n",
       "    <tr style=\"text-align: right;\">\n",
       "      <th></th>\n",
       "      <th>Treinamento</th>\n",
       "      <th>Relevância</th>\n",
       "    </tr>\n",
       "  </thead>\n",
       "  <tbody>\n",
       "    <tr>\n",
       "      <th>0</th>\n",
       "      <td>eu achava iphone caro,até pagar o preço de nun...</td>\n",
       "      <td>1</td>\n",
       "    </tr>\n",
       "    <tr>\n",
       "      <th>1</th>\n",
       "      <td>novamente sem carregador, essa vida usuária de...</td>\n",
       "      <td>2</td>\n",
       "    </tr>\n",
       "    <tr>\n",
       "      <th>2</th>\n",
       "      <td>se fôssemos trocar de celular vocês ficariam c...</td>\n",
       "      <td>2</td>\n",
       "    </tr>\n",
       "    <tr>\n",
       "      <th>3</th>\n",
       "      <td>@zaynikr mas gente, ela tem uns 3 telefones co...</td>\n",
       "      <td>2</td>\n",
       "    </tr>\n",
       "    <tr>\n",
       "      <th>4</th>\n",
       "      <td>esse face id do iphone que se eu tiver com a b...</td>\n",
       "      <td>3</td>\n",
       "    </tr>\n",
       "  </tbody>\n",
       "</table>\n",
       "</div>"
      ],
      "text/plain": [
       "                                         Treinamento  Relevância\n",
       "0  eu achava iphone caro,até pagar o preço de nun...           1\n",
       "1  novamente sem carregador, essa vida usuária de...           2\n",
       "2  se fôssemos trocar de celular vocês ficariam c...           2\n",
       "3  @zaynikr mas gente, ela tem uns 3 telefones co...           2\n",
       "4  esse face id do iphone que se eu tiver com a b...           3"
      ]
     },
     "metadata": {},
     "execution_count": 49
    }
   ],
   "metadata": {}
  },
  {
   "cell_type": "code",
   "execution_count": 50,
   "source": [
    "# Leitura do excel da planilha teste.\r\n",
    "test = pd.read_excel(filename, sheet_name = 'Teste')\r\n",
    "test.head(5)"
   ],
   "outputs": [
    {
     "output_type": "execute_result",
     "data": {
      "text/html": [
       "<div>\n",
       "<style scoped>\n",
       "    .dataframe tbody tr th:only-of-type {\n",
       "        vertical-align: middle;\n",
       "    }\n",
       "\n",
       "    .dataframe tbody tr th {\n",
       "        vertical-align: top;\n",
       "    }\n",
       "\n",
       "    .dataframe thead th {\n",
       "        text-align: right;\n",
       "    }\n",
       "</style>\n",
       "<table border=\"1\" class=\"dataframe\">\n",
       "  <thead>\n",
       "    <tr style=\"text-align: right;\">\n",
       "      <th></th>\n",
       "      <th>Teste</th>\n",
       "      <th>Relevância</th>\n",
       "    </tr>\n",
       "  </thead>\n",
       "  <tbody>\n",
       "    <tr>\n",
       "      <th>0</th>\n",
       "      <td>voltei c iphone, que sdd que eu estava meu deus</td>\n",
       "      <td>1</td>\n",
       "    </tr>\n",
       "    <tr>\n",
       "      <th>1</th>\n",
       "      <td>o novo ios do iphone ta muito bom</td>\n",
       "      <td>3</td>\n",
       "    </tr>\n",
       "    <tr>\n",
       "      <th>2</th>\n",
       "      <td>so pq tem um iphone, é triste viu kkkkkjjjjj h...</td>\n",
       "      <td>0</td>\n",
       "    </tr>\n",
       "    <tr>\n",
       "      <th>3</th>\n",
       "      <td>carregador de iphone seria perfeito se fosse m...</td>\n",
       "      <td>3</td>\n",
       "    </tr>\n",
       "    <tr>\n",
       "      <th>4</th>\n",
       "      <td>ela vive dando reply nos story usando iphone k...</td>\n",
       "      <td>2</td>\n",
       "    </tr>\n",
       "  </tbody>\n",
       "</table>\n",
       "</div>"
      ],
      "text/plain": [
       "                                               Teste  Relevância\n",
       "0    voltei c iphone, que sdd que eu estava meu deus           1\n",
       "1                  o novo ios do iphone ta muito bom           3\n",
       "2  so pq tem um iphone, é triste viu kkkkkjjjjj h...           0\n",
       "3  carregador de iphone seria perfeito se fosse m...           3\n",
       "4  ela vive dando reply nos story usando iphone k...           2"
      ]
     },
     "metadata": {},
     "execution_count": 50
    }
   ],
   "metadata": {}
  },
  {
   "cell_type": "markdown",
   "source": [
    "___\n",
    "## Classificador automático de sentimento\n"
   ],
   "metadata": {}
  },
  {
   "cell_type": "markdown",
   "source": [
    "Faça aqui uma descrição do seu produto e o que considerou como relevante ou não relevante na classificação dos tweets.\n",
    "\n",
    "Celular da Apple. Consideramos como uma postagem relevante quando o conteúdo se trata de alguma crítica ou análise sobre o produto, caso o contrário, consideramos como não relevante."
   ],
   "metadata": {}
  },
  {
   "cell_type": "markdown",
   "source": [
    "___\r\n",
    "### Montando as funções de limpeza dos twits.\r\n",
    "\r\n",
    "Criando as funções que irão limpar os nossos dados das duas planilhas(Treinamento e Teste)."
   ],
   "metadata": {}
  },
  {
   "cell_type": "code",
   "execution_count": 51,
   "source": [
    "# Lista de todas stopwords, que serão retiradas no cleanup.\r\n",
    "stopwords=['de', 'a', 'o', 'que', 'e', 'do', 'da', 'em', 'um', 'para', 'é', 'com', 'não', 'uma', 'os', 'no', 'se', 'na', 'por', 'mais', 'as', 'dos', 'como', 'mas', 'foi', 'ao', 'ele', 'das', 'tem', 'à', 'seu', 'sua', 'ou', 'ser', 'quando', 'muito', 'há', 'nos', 'já', 'está', 'eu', 'também', 'só', 'pelo', 'pela', 'até', 'isso', 'ela', 'entre', 'era', 'depois', 'sem', 'mesmo', 'aos', 'ter', 'seus', 'quem', 'nas', 'me', 'esse', 'eles', 'estão', 'você', 'tinha', 'foram', 'essa', 'num', 'nem', 'suas', 'meu', 'às', 'minha', 'têm', 'numa', 'pelos', 'elas', 'havia', 'seja', 'qual', 'será', 'nós', 'tenho', 'lhe', 'deles', 'essas', 'esses', 'pelas', 'este', 'fosse', 'dele', 'tu', 'te', 'vocês', 'vós', 'lhes', 'meus', 'minhas', 'teu', 'tua', 'teus', 'tuas', 'nosso', 'nossa', 'nossos', 'nossas', 'dela', 'delas', 'esta', 'estes', 'estas', 'aquele', 'aquela', 'aqueles', 'aquelas', 'isto', 'aquilo', 'estou', 'está', 'estamos', 'estão', 'estive', 'esteve', 'estivemos', 'estiveram', 'estava', 'estávamos', 'estavam', 'estivera', 'estivéramos', 'esteja', 'estejamos', 'estejam', 'estivesse', 'estivéssemos', 'estivessem', 'estiver', 'estivermos', 'estiverem', 'hei', 'há', 'havemos', 'hão', 'houve', 'houvemos', 'houveram', 'houvera', 'houvéramos', 'haja', 'hajamos', 'hajam', 'houvesse', 'houvéssemos', 'houvessem', 'houver', 'houvermos', 'houverem', 'houverei', 'houverá', 'houveremos', 'houverão', 'houveria', 'houveríamos', 'houveriam', 'sou', 'somos', 'são', 'era', 'éramos', 'eram', 'fui', 'foi', 'fomos', 'foram', 'fora', 'fôramos', 'esteja', 'estejamos', 'sejam', 'fosse', 'fôssemos', 'for', 'formos', 'forem', 'serei', 'será', 'seremos', 'serão', 'seria', 'seríamos', 'seriam', 'tenho', 'tem', 'temos', 'têm', 'tinha', 'tínhamos', 'tinham', 'tive', 'teve', 'tivemos', 'tiveram', 'tivera', 'tivéramos', 'tenha', 'tenhamos', 'tenham', 'tivesse', 'tivéssemos', 'tivessem', 'tiver', 'tivermos', 'tiverem', 'terei', 'terá', 'teremos', 'terão', 'teria', 'teríamos', 'teriam']"
   ],
   "outputs": [],
   "metadata": {}
  },
  {
   "cell_type": "code",
   "execution_count": 52,
   "source": [
    "# Criação da função cleanup.\r\n",
    "def cleanup(text):\r\n",
    "    punctuation = '[!-.:?;()\\'\",_%$\\\\|/,<>[\\]]'\r\n",
    "    pattern = re.compile(punctuation)\r\n",
    "    text_subbed = re.sub(pattern, ' ', text).lower()\r\n",
    "    x=[p for p in text_subbed.split() if '@' != p [0] and p not in stopwords]\r\n",
    "    stemmer = nltk.stem.RSLPStemmer()\r\n",
    "    x = list(map(stemmer.stem, x))\r\n",
    "    return x"
   ],
   "outputs": [],
   "metadata": {}
  },
  {
   "cell_type": "code",
   "execution_count": 53,
   "source": [
    "# Aplicando a função cleanup na planilha de treinamento.\r\n",
    "train['Treinamento'] = train['Treinamento'].apply(cleanup)\r\n",
    "train"
   ],
   "outputs": [
    {
     "output_type": "execute_result",
     "data": {
      "text/html": [
       "<div>\n",
       "<style scoped>\n",
       "    .dataframe tbody tr th:only-of-type {\n",
       "        vertical-align: middle;\n",
       "    }\n",
       "\n",
       "    .dataframe tbody tr th {\n",
       "        vertical-align: top;\n",
       "    }\n",
       "\n",
       "    .dataframe thead th {\n",
       "        text-align: right;\n",
       "    }\n",
       "</style>\n",
       "<table border=\"1\" class=\"dataframe\">\n",
       "  <thead>\n",
       "    <tr style=\"text-align: right;\">\n",
       "      <th></th>\n",
       "      <th>Treinamento</th>\n",
       "      <th>Relevância</th>\n",
       "    </tr>\n",
       "  </thead>\n",
       "  <tbody>\n",
       "    <tr>\n",
       "      <th>0</th>\n",
       "      <td>[ach, iphon, car, pag, preç, nunc, am, verdad]</td>\n",
       "      <td>1</td>\n",
       "    </tr>\n",
       "    <tr>\n",
       "      <th>1</th>\n",
       "      <td>[nov, carreg, vid, usuár, iphon, pra, mim, 😭😭😭]</td>\n",
       "      <td>2</td>\n",
       "    </tr>\n",
       "    <tr>\n",
       "      <th>2</th>\n",
       "      <td>[troc, celul, fic, iphon, xr]</td>\n",
       "      <td>2</td>\n",
       "    </tr>\n",
       "    <tr>\n",
       "      <th>3</th>\n",
       "      <td>[gent, um, 3, telefon, diss, cert, iphon, kkkk...</td>\n",
       "      <td>2</td>\n",
       "    </tr>\n",
       "    <tr>\n",
       "      <th>4</th>\n",
       "      <td>[fac, id, iphon, boc, tiquin, abert, reconhec,...</td>\n",
       "      <td>3</td>\n",
       "    </tr>\n",
       "    <tr>\n",
       "      <th>...</th>\n",
       "      <td>...</td>\n",
       "      <td>...</td>\n",
       "    </tr>\n",
       "    <tr>\n",
       "      <th>995</th>\n",
       "      <td>[iphon, xr, 89, bat, amig, vend, inform, cham,...</td>\n",
       "      <td>0</td>\n",
       "    </tr>\n",
       "    <tr>\n",
       "      <th>996</th>\n",
       "      <td>[namor, deu, iphon, part, trá, vidr, agor, cui...</td>\n",
       "      <td>1</td>\n",
       "    </tr>\n",
       "    <tr>\n",
       "      <th>997</th>\n",
       "      <td>[saudad, to, iphon, surre, 😫]</td>\n",
       "      <td>1</td>\n",
       "    </tr>\n",
       "    <tr>\n",
       "      <th>998</th>\n",
       "      <td>[quer, cri, vsc, log, iphon, tens, to, armazen]</td>\n",
       "      <td>2</td>\n",
       "    </tr>\n",
       "    <tr>\n",
       "      <th>999</th>\n",
       "      <td>[met, compr, iphon, pra, nunc, pass, raiv]</td>\n",
       "      <td>2</td>\n",
       "    </tr>\n",
       "  </tbody>\n",
       "</table>\n",
       "<p>1000 rows × 2 columns</p>\n",
       "</div>"
      ],
      "text/plain": [
       "                                           Treinamento  Relevância\n",
       "0       [ach, iphon, car, pag, preç, nunc, am, verdad]           1\n",
       "1      [nov, carreg, vid, usuár, iphon, pra, mim, 😭😭😭]           2\n",
       "2                        [troc, celul, fic, iphon, xr]           2\n",
       "3    [gent, um, 3, telefon, diss, cert, iphon, kkkk...           2\n",
       "4    [fac, id, iphon, boc, tiquin, abert, reconhec,...           3\n",
       "..                                                 ...         ...\n",
       "995  [iphon, xr, 89, bat, amig, vend, inform, cham,...           0\n",
       "996  [namor, deu, iphon, part, trá, vidr, agor, cui...           1\n",
       "997                      [saudad, to, iphon, surre, 😫]           1\n",
       "998    [quer, cri, vsc, log, iphon, tens, to, armazen]           2\n",
       "999         [met, compr, iphon, pra, nunc, pass, raiv]           2\n",
       "\n",
       "[1000 rows x 2 columns]"
      ]
     },
     "metadata": {},
     "execution_count": 53
    }
   ],
   "metadata": {
    "scrolled": false
   }
  },
  {
   "cell_type": "code",
   "execution_count": 54,
   "source": [
    "# Aplicando a função cleanup na planilha de teste.\r\n",
    "test['Teste'] = test['Teste'].apply(cleanup)\r\n",
    "test"
   ],
   "outputs": [
    {
     "output_type": "execute_result",
     "data": {
      "text/html": [
       "<div>\n",
       "<style scoped>\n",
       "    .dataframe tbody tr th:only-of-type {\n",
       "        vertical-align: middle;\n",
       "    }\n",
       "\n",
       "    .dataframe tbody tr th {\n",
       "        vertical-align: top;\n",
       "    }\n",
       "\n",
       "    .dataframe thead th {\n",
       "        text-align: right;\n",
       "    }\n",
       "</style>\n",
       "<table border=\"1\" class=\"dataframe\">\n",
       "  <thead>\n",
       "    <tr style=\"text-align: right;\">\n",
       "      <th></th>\n",
       "      <th>Teste</th>\n",
       "      <th>Relevância</th>\n",
       "    </tr>\n",
       "  </thead>\n",
       "  <tbody>\n",
       "    <tr>\n",
       "      <th>0</th>\n",
       "      <td>[volt, c, iphon, sdd, deu]</td>\n",
       "      <td>1</td>\n",
       "    </tr>\n",
       "    <tr>\n",
       "      <th>1</th>\n",
       "      <td>[nov, io, iphon, ta, bom]</td>\n",
       "      <td>3</td>\n",
       "    </tr>\n",
       "    <tr>\n",
       "      <th>2</th>\n",
       "      <td>[so, pq, iphon, trist, viu, kkkkkjjjjj, http, ...</td>\n",
       "      <td>0</td>\n",
       "    </tr>\n",
       "    <tr>\n",
       "      <th>3</th>\n",
       "      <td>[carreg, iphon, perfeit, barat]</td>\n",
       "      <td>3</td>\n",
       "    </tr>\n",
       "    <tr>\n",
       "      <th>4</th>\n",
       "      <td>[viv, dand, reply, story, us, iphon, kkkkkkkk,...</td>\n",
       "      <td>2</td>\n",
       "    </tr>\n",
       "    <tr>\n",
       "      <th>...</th>\n",
       "      <td>...</td>\n",
       "      <td>...</td>\n",
       "    </tr>\n",
       "    <tr>\n",
       "      <th>245</th>\n",
       "      <td>[instal, whatsapp, gb, watus, iphon, jailbreak...</td>\n",
       "      <td>0</td>\n",
       "    </tr>\n",
       "    <tr>\n",
       "      <th>246</th>\n",
       "      <td>[vid, mud, vinic, desativ, espelh, automá, iphon]</td>\n",
       "      <td>1</td>\n",
       "    </tr>\n",
       "    <tr>\n",
       "      <th>247</th>\n",
       "      <td>[bat, celul, tá, parec, iphon, tão, merd, q, tá]</td>\n",
       "      <td>3</td>\n",
       "    </tr>\n",
       "    <tr>\n",
       "      <th>248</th>\n",
       "      <td>[narcis, dá, iphon, 🥺]</td>\n",
       "      <td>0</td>\n",
       "    </tr>\n",
       "    <tr>\n",
       "      <th>249</th>\n",
       "      <td>[ach, q, cab, iphon, kkkkkk]</td>\n",
       "      <td>1</td>\n",
       "    </tr>\n",
       "  </tbody>\n",
       "</table>\n",
       "<p>250 rows × 2 columns</p>\n",
       "</div>"
      ],
      "text/plain": [
       "                                                 Teste  Relevância\n",
       "0                           [volt, c, iphon, sdd, deu]           1\n",
       "1                            [nov, io, iphon, ta, bom]           3\n",
       "2    [so, pq, iphon, trist, viu, kkkkkjjjjj, http, ...           0\n",
       "3                      [carreg, iphon, perfeit, barat]           3\n",
       "4    [viv, dand, reply, story, us, iphon, kkkkkkkk,...           2\n",
       "..                                                 ...         ...\n",
       "245  [instal, whatsapp, gb, watus, iphon, jailbreak...           0\n",
       "246  [vid, mud, vinic, desativ, espelh, automá, iphon]           1\n",
       "247   [bat, celul, tá, parec, iphon, tão, merd, q, tá]           3\n",
       "248                             [narcis, dá, iphon, 🥺]           0\n",
       "249                       [ach, q, cab, iphon, kkkkkk]           1\n",
       "\n",
       "[250 rows x 2 columns]"
      ]
     },
     "metadata": {},
     "execution_count": 54
    }
   ],
   "metadata": {
    "scrolled": false
   }
  },
  {
   "cell_type": "markdown",
   "source": [
    "___\n",
    "### Montando um Classificador Naive-Bayes\n",
    "\n",
    "Considerando apenas as mensagens da planilha Treinamento, ensine  seu classificador."
   ],
   "metadata": {}
  },
  {
   "cell_type": "code",
   "execution_count": 55,
   "source": [
    "# Transformnado train['Relevância'] em variável categórica.\r\n",
    "train['Relevância'] = train['Relevância'].astype('category')\r\n",
    "train['Relevância'].cat.categories = [0,1,2,3]"
   ],
   "outputs": [],
   "metadata": {}
  },
  {
   "cell_type": "code",
   "execution_count": 56,
   "source": [
    "# Separando os tweets por relevância.\r\n",
    "muito_relevante = train['Relevância'] == 3\r\n",
    "relevante = train['Relevância'] == 2\r\n",
    "irrelevante = train['Relevância'] == 1\r\n",
    "muito_irrelevante = train['Relevância'] == 0"
   ],
   "outputs": [],
   "metadata": {}
  },
  {
   "cell_type": "code",
   "execution_count": 57,
   "source": [
    "# Separando os tweets por relevância em variáveis.\r\n",
    "df_muito_relevante = train.loc[muito_relevante, :]\r\n",
    "df_relevante = train.loc[relevante, :]\r\n",
    "df_irrelevante = train.loc[irrelevante, :]\r\n",
    "df_muito_irrelevante = train.loc[muito_irrelevante, :]"
   ],
   "outputs": [],
   "metadata": {}
  },
  {
   "cell_type": "code",
   "execution_count": 58,
   "source": [
    "# Colocando todas as palavras, por categoria, em uma lista.\r\n",
    "total_palavras_mr = sum(df_muito_relevante['Treinamento'], [])\r\n",
    "total_palavras_r = sum(df_relevante['Treinamento'], [])\r\n",
    "total_palavras_i = sum(df_irrelevante['Treinamento'], [])\r\n",
    "total_palavras_mi = sum(df_muito_irrelevante['Treinamento'], [])"
   ],
   "outputs": [],
   "metadata": {}
  },
  {
   "cell_type": "code",
   "execution_count": 59,
   "source": [
    "# Transformando as palavras da lista em um Pandas Series. \r\n",
    "series_mr = pd.Series(total_palavras_mr)\r\n",
    "series_r = pd.Series(total_palavras_r)\r\n",
    "series_i = pd.Series(total_palavras_i)\r\n",
    "series_mi = pd.Series(total_palavras_mi)"
   ],
   "outputs": [],
   "metadata": {}
  },
  {
   "cell_type": "code",
   "execution_count": 60,
   "source": [
    "# Calculando o total de palavras, sem repetições, de todas as categorias.\r\n",
    "tot_palavras_sem_rep = len(series_mr.value_counts()) + len(series_r.value_counts()) + len(series_i.value_counts()) + len(series_mi.value_counts())"
   ],
   "outputs": [],
   "metadata": {}
  },
  {
   "cell_type": "code",
   "execution_count": 61,
   "source": [
    "# Total de palavras por categoria. \r\n",
    "total_mr = len(total_palavras_mr)\r\n",
    "total_r = len(total_palavras_r)\r\n",
    "total_i = len(total_palavras_i)\r\n",
    "total_mi = len(total_palavras_mi)"
   ],
   "outputs": [],
   "metadata": {}
  },
  {
   "cell_type": "code",
   "execution_count": 62,
   "source": [
    "# Probabilidade de cada categoria: \r\n",
    "prob_mr = len(df_muito_relevante)/len(train[\"Treinamento\"])\r\n",
    "prob_r = len(df_relevante)/len(train[\"Treinamento\"])\r\n",
    "prob_i = len(df_irrelevante)/len(train[\"Treinamento\"])\r\n",
    "prob_mi = len(df_muito_irrelevante)/len(train[\"Treinamento\"])"
   ],
   "outputs": [],
   "metadata": {}
  },
  {
   "cell_type": "code",
   "execution_count": 63,
   "source": [
    "# Criando o classificador.\r\n",
    "def classifica(frase):\r\n",
    "    # Suavização de la Place.\r\n",
    "    alfa = 1 \r\n",
    "    # Listas por categorias para armazenar a probabilidade de cada palavra da frase para serem multiplicadas posteriormente.\r\n",
    "    lista_mr = []\r\n",
    "    lista_r = []\r\n",
    "    lista_i = []\r\n",
    "    lista_mi = []\r\n",
    "    # Loop principal.\r\n",
    "    for palavra in frase:\r\n",
    "        # Quantidade de aparições da palavra em cada categoria.\r\n",
    "        qtd_mr = series_mr.to_list().count(palavra)\r\n",
    "        qtd_r = series_r.to_list().count(palavra)\r\n",
    "        qtd_i = series_i.to_list().count(palavra)\r\n",
    "        qtd_mi = series_mi.to_list().count(palavra)\r\n",
    "        # Calculos da probabilidade por categoria utilizando a suavização de La Place.\r\n",
    "        prob_palavra_mr = lista_mr.append((qtd_mr + alfa) / (total_mr + tot_palavras_sem_rep))\r\n",
    "        prob_palavra_r = lista_r.append((qtd_r + alfa) / (total_r + tot_palavras_sem_rep))\r\n",
    "        prob_palavra_i = lista_i.append((qtd_i + alfa) / (total_i + tot_palavras_sem_rep))\r\n",
    "        prob_palavra_mi = lista_mi.append((qtd_mi + alfa) / (total_mi + tot_palavras_sem_rep))\r\n",
    "    # Multiplicação das probabilidades por palavra, pela probabilidade da categoria.        \r\n",
    "    prob_total_mr = numpy.prod(lista_mr) * prob_mr\r\n",
    "    prob_total_r = numpy.prod(lista_r) * prob_r\r\n",
    "    prob_total_i = numpy.prod(lista_i) * prob_i\r\n",
    "    prob_total_mi = numpy.prod(lista_mi) * prob_mi\r\n",
    "    # Lista que armazena todas as probabilidades totais por categoria.\r\n",
    "    lista_prob_total = [prob_total_mr,prob_total_r,prob_total_i,prob_total_mi]\r\n",
    "    # Análise da maior probabilidade, e retorno da função.\r\n",
    "    if max(lista_prob_total) == prob_total_mr:\r\n",
    "        return 3\r\n",
    "    elif max(lista_prob_total) == prob_total_r:\r\n",
    "        return 2\r\n",
    "    elif max(lista_prob_total) == prob_total_i:\r\n",
    "        return 1\r\n",
    "    elif max(lista_prob_total) == prob_total_mi:\r\n",
    "        return 0"
   ],
   "outputs": [],
   "metadata": {}
  },
  {
   "cell_type": "code",
   "execution_count": 64,
   "source": [
    "# Aplicação da função na planilha de treinamento.\r\n",
    "train['Classificacao'] = train['Treinamento'].apply(classifica)"
   ],
   "outputs": [],
   "metadata": {}
  },
  {
   "cell_type": "code",
   "execution_count": 65,
   "source": [
    "# Fazendo o crosstab para comparar a relevância e classificação da planilha treinamento.\r\n",
    "tabela = pd.crosstab(train['Relevância'], train['Classificacao'], normalize='all')\r\n",
    "tabela"
   ],
   "outputs": [
    {
     "output_type": "execute_result",
     "data": {
      "text/html": [
       "<div>\n",
       "<style scoped>\n",
       "    .dataframe tbody tr th:only-of-type {\n",
       "        vertical-align: middle;\n",
       "    }\n",
       "\n",
       "    .dataframe tbody tr th {\n",
       "        vertical-align: top;\n",
       "    }\n",
       "\n",
       "    .dataframe thead th {\n",
       "        text-align: right;\n",
       "    }\n",
       "</style>\n",
       "<table border=\"1\" class=\"dataframe\">\n",
       "  <thead>\n",
       "    <tr style=\"text-align: right;\">\n",
       "      <th>Classificacao</th>\n",
       "      <th>0</th>\n",
       "      <th>1</th>\n",
       "      <th>2</th>\n",
       "      <th>3</th>\n",
       "    </tr>\n",
       "    <tr>\n",
       "      <th>Relevância</th>\n",
       "      <th></th>\n",
       "      <th></th>\n",
       "      <th></th>\n",
       "      <th></th>\n",
       "    </tr>\n",
       "  </thead>\n",
       "  <tbody>\n",
       "    <tr>\n",
       "      <th>0</th>\n",
       "      <td>0.426</td>\n",
       "      <td>0.003</td>\n",
       "      <td>0.001</td>\n",
       "      <td>0.00</td>\n",
       "    </tr>\n",
       "    <tr>\n",
       "      <th>1</th>\n",
       "      <td>0.051</td>\n",
       "      <td>0.229</td>\n",
       "      <td>0.006</td>\n",
       "      <td>0.00</td>\n",
       "    </tr>\n",
       "    <tr>\n",
       "      <th>2</th>\n",
       "      <td>0.039</td>\n",
       "      <td>0.016</td>\n",
       "      <td>0.153</td>\n",
       "      <td>0.00</td>\n",
       "    </tr>\n",
       "    <tr>\n",
       "      <th>3</th>\n",
       "      <td>0.019</td>\n",
       "      <td>0.017</td>\n",
       "      <td>0.020</td>\n",
       "      <td>0.02</td>\n",
       "    </tr>\n",
       "  </tbody>\n",
       "</table>\n",
       "</div>"
      ],
      "text/plain": [
       "Classificacao      0      1      2     3\n",
       "Relevância                              \n",
       "0              0.426  0.003  0.001  0.00\n",
       "1              0.051  0.229  0.006  0.00\n",
       "2              0.039  0.016  0.153  0.00\n",
       "3              0.019  0.017  0.020  0.02"
      ]
     },
     "metadata": {},
     "execution_count": 65
    }
   ],
   "metadata": {
    "scrolled": false
   }
  },
  {
   "cell_type": "code",
   "execution_count": 66,
   "source": [
    "# Eficácia do classificador na planilha de treinamento.\r\n",
    "f'{(tabela.iloc[0,0] + tabela.iloc[1,1] + tabela.iloc[2,2] + tabela.iloc[3,3])*100:.2f}%'"
   ],
   "outputs": [
    {
     "output_type": "execute_result",
     "data": {
      "text/plain": [
       "'82.80%'"
      ]
     },
     "metadata": {},
     "execution_count": 66
    }
   ],
   "metadata": {
    "scrolled": false
   }
  },
  {
   "cell_type": "markdown",
   "source": [
    "___\n",
    "### Verificando a performance do Classificador\n",
    "\n",
    "Agora você deve testar o seu classificador com a base de Testes."
   ],
   "metadata": {}
  },
  {
   "cell_type": "code",
   "execution_count": 67,
   "source": [
    "# Transformando test['Relevância'] em categórica.\r\n",
    "test['Relevância'] = test['Relevância'].astype('category')\r\n",
    "test['Relevância'].cat.categories = [0,1,2,3]"
   ],
   "outputs": [],
   "metadata": {}
  },
  {
   "cell_type": "code",
   "execution_count": 68,
   "source": [
    "# # Aplicação da função na planilha de teste.\r\n",
    "test['Classificacao'] = test['Teste'].apply(classifica)"
   ],
   "outputs": [],
   "metadata": {}
  },
  {
   "cell_type": "code",
   "execution_count": 69,
   "source": [
    "\r\n",
    "# # Fazendo o crosstab para comparar a relevância e classificação da planilha de teste.\r\n",
    "tabela_test = pd.crosstab(test['Relevância'], test['Classificacao'], normalize='all')\r\n",
    "tabela_test"
   ],
   "outputs": [
    {
     "output_type": "execute_result",
     "data": {
      "text/html": [
       "<div>\n",
       "<style scoped>\n",
       "    .dataframe tbody tr th:only-of-type {\n",
       "        vertical-align: middle;\n",
       "    }\n",
       "\n",
       "    .dataframe tbody tr th {\n",
       "        vertical-align: top;\n",
       "    }\n",
       "\n",
       "    .dataframe thead th {\n",
       "        text-align: right;\n",
       "    }\n",
       "</style>\n",
       "<table border=\"1\" class=\"dataframe\">\n",
       "  <thead>\n",
       "    <tr style=\"text-align: right;\">\n",
       "      <th>Classificacao</th>\n",
       "      <th>0</th>\n",
       "      <th>1</th>\n",
       "      <th>2</th>\n",
       "    </tr>\n",
       "    <tr>\n",
       "      <th>Relevância</th>\n",
       "      <th></th>\n",
       "      <th></th>\n",
       "      <th></th>\n",
       "    </tr>\n",
       "  </thead>\n",
       "  <tbody>\n",
       "    <tr>\n",
       "      <th>0</th>\n",
       "      <td>0.252</td>\n",
       "      <td>0.084</td>\n",
       "      <td>0.016</td>\n",
       "    </tr>\n",
       "    <tr>\n",
       "      <th>1</th>\n",
       "      <td>0.156</td>\n",
       "      <td>0.076</td>\n",
       "      <td>0.020</td>\n",
       "    </tr>\n",
       "    <tr>\n",
       "      <th>2</th>\n",
       "      <td>0.120</td>\n",
       "      <td>0.052</td>\n",
       "      <td>0.044</td>\n",
       "    </tr>\n",
       "    <tr>\n",
       "      <th>3</th>\n",
       "      <td>0.092</td>\n",
       "      <td>0.036</td>\n",
       "      <td>0.052</td>\n",
       "    </tr>\n",
       "  </tbody>\n",
       "</table>\n",
       "</div>"
      ],
      "text/plain": [
       "Classificacao      0      1      2\n",
       "Relevância                        \n",
       "0              0.252  0.084  0.016\n",
       "1              0.156  0.076  0.020\n",
       "2              0.120  0.052  0.044\n",
       "3              0.092  0.036  0.052"
      ]
     },
     "metadata": {},
     "execution_count": 69
    }
   ],
   "metadata": {
    "scrolled": false
   }
  },
  {
   "cell_type": "code",
   "execution_count": 70,
   "source": [
    "# Eficácia do classificador na planilha de teste.\r\n",
    "f'Nosso classificador acertou:{(tabela_test.iloc[0,0] + tabela_test.iloc[1,1] + tabela_test.iloc[2,2] + 0)*100:.2f}%'"
   ],
   "outputs": [
    {
     "output_type": "execute_result",
     "data": {
      "text/plain": [
       "'Nosso classificador acertou:37.20%'"
      ]
     },
     "metadata": {},
     "execution_count": 70
    }
   ],
   "metadata": {}
  },
  {
   "cell_type": "markdown",
   "source": [
    "___\r\n",
    "### Verificando performance do classificador"
   ],
   "metadata": {}
  },
  {
   "cell_type": "code",
   "execution_count": 71,
   "source": [
    "# Porcentagem de verdadeiros positivos.\r\n",
    "print(f'Porcentagem de mensagens muito relevantes e que foram classificadas como muito relevantes:{0*100:.2f}%')\r\n",
    "print('')\r\n",
    "print(f'Porcentagem de mensagens relevantes e que foram classificadas como relevantes:{(tabela_test.iloc[2,2])*100:.2f}%')"
   ],
   "outputs": [
    {
     "output_type": "stream",
     "name": "stdout",
     "text": [
      "Porcentagem de mensagens muito relevantes e que foram classificadas como muito relevantes:0.00%\n",
      "\n",
      "Porcentagem de mensagens relevantes e que foram classificadas como relevantes:4.40%\n"
     ]
    }
   ],
   "metadata": {}
  },
  {
   "cell_type": "code",
   "execution_count": 72,
   "source": [
    "# Porcentagem de falsos positivos.\r\n",
    "print(f'Porcentagem de mensagens muito irrelevantes e que foram classificadas como muito relevantes:{0*100:.2f}%')\r\n",
    "print('')\r\n",
    "print(f'Porcentagem de mensagens muito irrelevantes e que foram classificadas como relevantes:{(tabela_test.iloc[0,2])*100:.2f}%')\r\n",
    "print('')\r\n",
    "print(f'Porcentagem de mensagens irrelevantes e que foram classificadas como muito relevantes:{0*100:.2f}%')\r\n",
    "print('')\r\n",
    "print(f'Porcentagem de mensagens irrelevantes e que foram classificadas como relevantes:{(tabela_test.iloc[1,2])*100:.2f}%')"
   ],
   "outputs": [
    {
     "output_type": "stream",
     "name": "stdout",
     "text": [
      "Porcentagem de mensagens muito irrelevantes e que foram classificadas como muito relevantes:0.00%\n",
      "\n",
      "Porcentagem de mensagens muito irrelevantes e que foram classificadas como relevantes:1.60%\n",
      "\n",
      "Porcentagem de mensagens irrelevantes e que foram classificadas como muito relevantes:0.00%\n",
      "\n",
      "Porcentagem de mensagens irrelevantes e que foram classificadas como relevantes:2.00%\n"
     ]
    }
   ],
   "metadata": {
    "scrolled": true
   }
  },
  {
   "cell_type": "code",
   "execution_count": 73,
   "source": [
    "# Porcentagem de verdadeiros negativos.\r\n",
    "print(f'Porcentagem de mensagens muito irrelevantes e que foram classificadas como muito irrelevantes:{(tabela_test.iloc[0,0])*100:.2f}%')\r\n",
    "print('')\r\n",
    "print(f'Porcentagem de mensagens irrelevantes e que foram classificadas como irrelevantes:{(tabela_test.iloc[1,1])*100:.2f}%')"
   ],
   "outputs": [
    {
     "output_type": "stream",
     "name": "stdout",
     "text": [
      "Porcentagem de mensagens muito irrelevantes e que foram classificadas como muito irrelevantes:25.20%\n",
      "\n",
      "Porcentagem de mensagens irrelevantes e que foram classificadas como irrelevantes:7.60%\n"
     ]
    }
   ],
   "metadata": {}
  },
  {
   "cell_type": "code",
   "execution_count": 74,
   "source": [
    "# Porcentagem de falsos negativos.\r\n",
    "(f'Porcentagem de mensagens muito relevantes e que foram classificadas como muito irrelevantes:{(tabela_test.iloc[3,0])*100:.2f}%')\r\n",
    "print('')\r\n",
    "print(f'Porcentagem de mensagens muito relevantes e que foram classificadas como irrelevantes:{(tabela_test.iloc[3,1])*100:.2f}%')\r\n",
    "print('')\r\n",
    "print(f'Porcentagem de mensagens relevantes e que foram classificadas como muito irrelevantes:{(tabela_test.iloc[2,0])*100:.2f}%')\r\n",
    "print('')\r\n",
    "print(f'Porcentagem de mensagens relevantes e que foram classificadas como irrelevantes:{(tabela_test.iloc[2,1])*100:.2f}%')"
   ],
   "outputs": [
    {
     "output_type": "stream",
     "name": "stdout",
     "text": [
      "Porcentagem de mensagens muito relevantes e que foram classificadas como muito irrelevantes:9.20%\n",
      "\n",
      "Porcentagem de mensagens muito relevantes e que foram classificadas como irrelevantes:3.60%\n",
      "\n",
      "Porcentagem de mensagens relevantes e que foram classificadas como muito irrelevantes:12.00%\n",
      "\n",
      "Porcentagem de mensagens relevantes e que foram classificadas como irrelevantes:5.20%\n"
     ]
    }
   ],
   "metadata": {}
  },
  {
   "cell_type": "code",
   "execution_count": 75,
   "source": [
    "# Eficácia do classificador na planilha de testes.\r\n",
    "print('Acurácia total: ')\r\n",
    "print(f'{(tabela_test.iloc[0,0] + tabela_test.iloc[1,1] + tabela_test.iloc[2,2] + 0)*100:.2f}%')\r\n"
   ],
   "outputs": [
    {
     "output_type": "stream",
     "name": "stdout",
     "text": [
      "Acurácia total: \n",
      "37.20%\n"
     ]
    }
   ],
   "metadata": {}
  },
  {
   "cell_type": "markdown",
   "source": [
    "___\r\n",
    "### Concluindo"
   ],
   "metadata": {}
  },
  {
   "cell_type": "markdown",
   "source": [
    "\r\n",
    "#### Explicação de como são tratadas as mensagens com dupla negação e sarcasmo.\r\n",
    "O classificador Naïve-Bayes funciona através do reconhecimento de palavras e cálculo de suas probabilidades. Por conta disso afirma-se que não é possivel analisar se um frase possui sarcasmo ou dupla negação. "
   ],
   "metadata": {}
  },
  {
   "cell_type": "markdown",
   "source": [
    "\r\n",
    "#### Porque devem continuar financiando nosso projeto?\r\n",
    "O nosso projeto deve ser financiado, tendo em vista que com o decorrer do tempo, a nossa base de dados aumenta, influenciando tambem na melhoria de nossa precisão e exatidão.\r\n"
   ],
   "metadata": {}
  },
  {
   "cell_type": "markdown",
   "source": [
    "\r\n",
    "#### Porque não se pode alimentar a própria base de treinamento usando o classificador aplicado a novos tweets?\r\n",
    "Nós não podemos utilizar o próprio classificador para alimentar a base de treinamentos, porque a função que classifica foi programada a partir das classificações de treinamentos. Sendo assim, a cada classificação nova, o modelo da função é alterado, fazendo com que nunca se resulte em algo padronizado."
   ],
   "metadata": {}
  },
  {
   "cell_type": "markdown",
   "source": [
    "\r\n",
    "#### Diferentes cenários de uso para o classificador Naïve-Bayes.\r\n",
    "O classificador probabilístico Naïve-Bayes caracteriza-se por ser muito útil para se realizar análises automáticas de qualquer produto,pessoa,marca... Portanto é possivel utilizá-lo em diversos cenários diferentes,por exemplo as diversas classificações feitas pelo IBGE, como renda per capita, estimativa de vida, estimativa de população até uma certa data etc..."
   ],
   "metadata": {}
  },
  {
   "cell_type": "markdown",
   "source": [
    "___\r\n",
    "### Qualidade do Classificador a partir de novas separações dos tweets entre Treinamento e Teste\r\n",
    "\r\n",
    "Caso for fazer esse item do Projeto\r\n"
   ],
   "metadata": {}
  },
  {
   "cell_type": "code",
   "execution_count": null,
   "source": [
    "\r\n"
   ],
   "outputs": [],
   "metadata": {}
  },
  {
   "cell_type": "markdown",
   "source": [
    "___\n",
    "## Aperfeiçoamento:\n",
    "\n",
    "Trabalhos que conseguirem pelo menos conceito B vão evoluir em conceito dependendo da quantidade de itens avançados:\n",
    "\n",
    "* IMPLEMENTOU outras limpezas e transformações que não afetem a qualidade da informação contida nos tweets. Ex: stemming, lemmatization, stopwords\n",
    "* CORRIGIU separação de espaços entre palavras e emojis ou entre emojis e emojis\n",
    "* CRIOU categorias intermediárias de relevância baseadas na probabilidade: ex.: muito relevante, relevante, neutro, irrelevante, muito irrelevante. Pelo menos quatro categorias, com adição de mais tweets na base, conforme enunciado. (OBRIGATÓRIO PARA TRIOS, sem contar como item avançado)\n",
    "* EXPLICOU porquê não pode usar o próprio classificador para gerar mais amostras de treinamento\n",
    "* PROPÔS diferentes cenários para Naïve Bayes fora do contexto do projeto\n",
    "* SUGERIU e EXPLICOU melhorias reais com indicações concretas de como implementar (indicar como fazer e indicar material de pesquisa)\n",
    "* FEZ o item 6. Qualidade do Classificador a partir de novas separações dos tweets entre Treinamento e Teste descrito no enunciado do projeto (OBRIGATÓRIO para conceitos A ou A+)"
   ],
   "metadata": {}
  },
  {
   "cell_type": "markdown",
   "source": [
    "___\n",
    "## Referências"
   ],
   "metadata": {}
  },
  {
   "cell_type": "markdown",
   "source": [
    "[Naive Bayes and Text Classification](https://arxiv.org/pdf/1410.5329.pdf)  **Mais completo**\n",
    "\n",
    "[A practical explanation of a Naive Bayes Classifier](https://monkeylearn.com/blog/practical-explanation-naive-bayes-classifier/) **Mais simples**"
   ],
   "metadata": {}
  },
  {
   "cell_type": "code",
   "execution_count": null,
   "source": [],
   "outputs": [],
   "metadata": {}
  }
 ],
 "metadata": {
  "kernelspec": {
   "name": "python3",
   "display_name": "Python 3.8.5 64-bit ('base': conda)"
  },
  "language_info": {
   "codemirror_mode": {
    "name": "ipython",
    "version": 3
   },
   "file_extension": ".py",
   "mimetype": "text/x-python",
   "name": "python",
   "nbconvert_exporter": "python",
   "pygments_lexer": "ipython3",
   "version": "3.8.5"
  },
  "interpreter": {
   "hash": "7c3853fa688552a70f44d16e7d5650405e277aa74d3a04026ad6f833ca585374"
  }
 },
 "nbformat": 4,
 "nbformat_minor": 4
}